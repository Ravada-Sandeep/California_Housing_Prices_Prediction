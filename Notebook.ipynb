{
 "cells": [
  {
   "cell_type": "markdown",
   "id": "315e49fd-3150-48da-881d-4c4ad91c76a2",
   "metadata": {},
   "source": [
    "\n",
    "## **California Housing Prices Prediction**\n",
    "\n",
    "\n",
    "Introduction\n",
    "\n",
    "California’s housing market is known for its diversity, and understanding what drives house prices is a classic problem in data science. In this project, we use the California Housing Prices dataset (derived from the 1990 California census) to build a regression model for predicting median house prices in different districts. The dataset includes 10 attributes such as population, median income, and housing characteristics for each district, along with a categorical feature indicating proximity to the ocean, and the target variable is the median house value in USD.\n",
    "\n",
    "In this notebook, we will walk through an end-to-end machine learning workflow to tackle this problem. The main steps include:\n",
    "\n",
    "   &nbsp;&nbsp;&nbsp;&nbsp;**1.Exploratory Data Analysis (EDA)** – We start by exploring the dataset with summary statistics and visualizations to          uncover patterns and relationships (e.g., examining distributions and correlations between features and the target).\n",
    "\n",
    "   &nbsp;&nbsp;&nbsp;&nbsp;**2.Data Preprocessing** – We clean and prepare the data for modeling. This involves handling missing values (for example,    the total_bedrooms column  has some missing entries that we will need to address), encoding the categorical ocean      proximity feature into numerical form,and performing feature scaling or transformations if needed to improve model performance.\n",
    "\n",
    "   &nbsp;&nbsp;&nbsp;&nbsp;**3.Feature Engineering** – We may create additional features or combine existing ones to capture important trends in the         data. For instance,constructing new ratios (such as rooms per household or bedrooms per room) can provide more informative signals to enhance the model’s predictive power.\n",
    "   \n",
    "   &nbsp;&nbsp;&nbsp;&nbsp;**4.Model Training & Selection** – We will experiment with several machine learning algorithms for regression, starting with    a simple Linear Regression as a baseline and then trying more complex models such as Decision Trees, Random Forests, and Gradient Boosting (e.g., XGBoost). Each model is trained on the prepared dataset, and we use techniques like cross-validation to ensure robust performance estimation.\n",
    "\n",
    "   &nbsp;&nbsp;&nbsp;&nbsp;**5.Model Evaluation** – Using a hold-out test set and cross-validation results, we will evaluate the models using metrics like Root Mean Squared Error (RMSE) and Mean Absolute Error (MAE) to compare their accuracy. We’ll also examine the R² score to understand the proportion of variance in house prices that each model can explain. Based on these metrics, we will select the best-performing model for our task.\n",
    "\n",
    "   &nbsp;&nbsp;&nbsp;&nbsp;**6.Insights and Conclusions** – Finally, we interpret the results and discuss which features have the most influence on housing prices. For example, we expect median income to be a strong predictor of house value. We’ll also outline possible improvements or next steps (such as hyperparameter tuning or incorporating additional data) and conclude with key takeaways from the project.\n",
    "\n",
    "This introduction outlines our plan for analyzing and modeling California housing prices. By following this notebook, you’ll see how we can go from raw data to a reliable predictive model, all while gaining insights into the factors affecting home values in California. \n",
    "\n",
    "**Let's dive in and start exploring the data!**\n",
    "\n",
    "\n",
    "### 📦 Library Imports and Environment Setup\n",
    "\n",
    "&nbsp;&nbsp;&nbsp;&nbsp;Before diving into data analysis and modeling, we import the core Python libraries commonly used on Kaggle for data manipulation, numerical operations, and visualization. These packages will form the foundation of our exploratory data analysis (EDA) and modeling pipeline."
   ]
  },
  {
   "cell_type": "code",
   "execution_count": 2,
   "id": "1acc9d9e-e799-4d1a-a86d-2a9d3908017e",
   "metadata": {},
   "outputs": [],
   "source": [
    "import pandas as pd\n",
    "import numpy as np\n",
    "import matplotlib.pyplot as plt\n",
    "import seaborn as sns\n",
    "from sklearn.preprocessing import LabelEncoder\n"
   ]
  },
  {
   "cell_type": "markdown",
   "id": "511e3689-c558-434d-8bd2-2f89605602f5",
   "metadata": {},
   "source": [
    "### 📥 Load California Housing Dataset\n",
    "In this step, we load the California Housing Prices dataset from csv file into a pandas DataFrame. Displaying the first few rows allows us to inspect the data structure and confirm that it has been loaded correctly."
   ]
  },
  {
   "cell_type": "code",
   "execution_count": 3,
   "id": "55aeb4fb-92d2-457e-ac38-996e27c51fd8",
   "metadata": {},
   "outputs": [
    {
     "data": {
      "text/html": [
       "<div>\n",
       "<style scoped>\n",
       "    .dataframe tbody tr th:only-of-type {\n",
       "        vertical-align: middle;\n",
       "    }\n",
       "\n",
       "    .dataframe tbody tr th {\n",
       "        vertical-align: top;\n",
       "    }\n",
       "\n",
       "    .dataframe thead th {\n",
       "        text-align: right;\n",
       "    }\n",
       "</style>\n",
       "<table border=\"1\" class=\"dataframe\">\n",
       "  <thead>\n",
       "    <tr style=\"text-align: right;\">\n",
       "      <th></th>\n",
       "      <th>longitude</th>\n",
       "      <th>latitude</th>\n",
       "      <th>housing_median_age</th>\n",
       "      <th>total_rooms</th>\n",
       "      <th>total_bedrooms</th>\n",
       "      <th>population</th>\n",
       "      <th>households</th>\n",
       "      <th>median_income</th>\n",
       "      <th>median_house_value</th>\n",
       "      <th>ocean_proximity</th>\n",
       "    </tr>\n",
       "  </thead>\n",
       "  <tbody>\n",
       "    <tr>\n",
       "      <th>0</th>\n",
       "      <td>-122.23</td>\n",
       "      <td>37.88</td>\n",
       "      <td>41.0</td>\n",
       "      <td>880.0</td>\n",
       "      <td>129.0</td>\n",
       "      <td>322.0</td>\n",
       "      <td>126.0</td>\n",
       "      <td>8.3252</td>\n",
       "      <td>452600.0</td>\n",
       "      <td>NEAR BAY</td>\n",
       "    </tr>\n",
       "    <tr>\n",
       "      <th>1</th>\n",
       "      <td>-122.22</td>\n",
       "      <td>37.86</td>\n",
       "      <td>21.0</td>\n",
       "      <td>7099.0</td>\n",
       "      <td>1106.0</td>\n",
       "      <td>2401.0</td>\n",
       "      <td>1138.0</td>\n",
       "      <td>8.3014</td>\n",
       "      <td>358500.0</td>\n",
       "      <td>NEAR BAY</td>\n",
       "    </tr>\n",
       "    <tr>\n",
       "      <th>2</th>\n",
       "      <td>-122.24</td>\n",
       "      <td>37.85</td>\n",
       "      <td>52.0</td>\n",
       "      <td>1467.0</td>\n",
       "      <td>190.0</td>\n",
       "      <td>496.0</td>\n",
       "      <td>177.0</td>\n",
       "      <td>7.2574</td>\n",
       "      <td>352100.0</td>\n",
       "      <td>NEAR BAY</td>\n",
       "    </tr>\n",
       "    <tr>\n",
       "      <th>3</th>\n",
       "      <td>-122.25</td>\n",
       "      <td>37.85</td>\n",
       "      <td>52.0</td>\n",
       "      <td>1274.0</td>\n",
       "      <td>235.0</td>\n",
       "      <td>558.0</td>\n",
       "      <td>219.0</td>\n",
       "      <td>5.6431</td>\n",
       "      <td>341300.0</td>\n",
       "      <td>NEAR BAY</td>\n",
       "    </tr>\n",
       "    <tr>\n",
       "      <th>4</th>\n",
       "      <td>-122.25</td>\n",
       "      <td>37.85</td>\n",
       "      <td>52.0</td>\n",
       "      <td>1627.0</td>\n",
       "      <td>280.0</td>\n",
       "      <td>565.0</td>\n",
       "      <td>259.0</td>\n",
       "      <td>3.8462</td>\n",
       "      <td>342200.0</td>\n",
       "      <td>NEAR BAY</td>\n",
       "    </tr>\n",
       "  </tbody>\n",
       "</table>\n",
       "</div>"
      ],
      "text/plain": [
       "   longitude  latitude  housing_median_age  total_rooms  total_bedrooms  \\\n",
       "0    -122.23     37.88                41.0        880.0           129.0   \n",
       "1    -122.22     37.86                21.0       7099.0          1106.0   \n",
       "2    -122.24     37.85                52.0       1467.0           190.0   \n",
       "3    -122.25     37.85                52.0       1274.0           235.0   \n",
       "4    -122.25     37.85                52.0       1627.0           280.0   \n",
       "\n",
       "   population  households  median_income  median_house_value ocean_proximity  \n",
       "0       322.0       126.0         8.3252            452600.0        NEAR BAY  \n",
       "1      2401.0      1138.0         8.3014            358500.0        NEAR BAY  \n",
       "2       496.0       177.0         7.2574            352100.0        NEAR BAY  \n",
       "3       558.0       219.0         5.6431            341300.0        NEAR BAY  \n",
       "4       565.0       259.0         3.8462            342200.0        NEAR BAY  "
      ]
     },
     "execution_count": 3,
     "metadata": {},
     "output_type": "execute_result"
    }
   ],
   "source": [
    "df=pd.read_csv(r\"C:\\Users\\purus\\.cache\\kagglehub\\datasets\\camnugent\\california-housing-prices\\versions\\1\\housing.csv\")\n",
    "df.head()"
   ]
  },
  {
   "cell_type": "markdown",
   "id": "5031a328-0e96-40b1-9afd-1c41a89c5ea4",
   "metadata": {},
   "source": [
    "### 📝 Dataset Overview\n",
    "We use the info() method to get a concise summary of the DataFrame, including column names, data types, non-null counts, and memory usage. This helps us identify missing values and ensure each feature is correctly typed before proceeding with analysis and modeling."
   ]
  },
  {
   "cell_type": "code",
   "execution_count": 4,
   "id": "e9ada5af-f317-4d7c-ad2c-4ef4f9e87838",
   "metadata": {},
   "outputs": [
    {
     "name": "stdout",
     "output_type": "stream",
     "text": [
      "<class 'pandas.core.frame.DataFrame'>\n",
      "RangeIndex: 20640 entries, 0 to 20639\n",
      "Data columns (total 10 columns):\n",
      " #   Column              Non-Null Count  Dtype  \n",
      "---  ------              --------------  -----  \n",
      " 0   longitude           20640 non-null  float64\n",
      " 1   latitude            20640 non-null  float64\n",
      " 2   housing_median_age  20640 non-null  float64\n",
      " 3   total_rooms         20640 non-null  float64\n",
      " 4   total_bedrooms      20433 non-null  float64\n",
      " 5   population          20640 non-null  float64\n",
      " 6   households          20640 non-null  float64\n",
      " 7   median_income       20640 non-null  float64\n",
      " 8   median_house_value  20640 non-null  float64\n",
      " 9   ocean_proximity     20640 non-null  object \n",
      "dtypes: float64(9), object(1)\n",
      "memory usage: 1.6+ MB\n"
     ]
    }
   ],
   "source": [
    "df.info()"
   ]
  },
  {
   "cell_type": "markdown",
   "id": "7f64926c-9446-4f79-b710-7bd4d4c30b87",
   "metadata": {},
   "source": [
    "### 📊 Summary Statistics \n",
    "The df.describe() function generates summary statistics for each numeric column in the DataFrame, including count, mean, standard deviation, min, and percentiles."
   ]
  },
  {
   "cell_type": "code",
   "execution_count": 5,
   "id": "8a4c7f84-43f7-4af2-b140-e5f269a57440",
   "metadata": {},
   "outputs": [
    {
     "data": {
      "text/html": [
       "<div>\n",
       "<style scoped>\n",
       "    .dataframe tbody tr th:only-of-type {\n",
       "        vertical-align: middle;\n",
       "    }\n",
       "\n",
       "    .dataframe tbody tr th {\n",
       "        vertical-align: top;\n",
       "    }\n",
       "\n",
       "    .dataframe thead th {\n",
       "        text-align: right;\n",
       "    }\n",
       "</style>\n",
       "<table border=\"1\" class=\"dataframe\">\n",
       "  <thead>\n",
       "    <tr style=\"text-align: right;\">\n",
       "      <th></th>\n",
       "      <th>longitude</th>\n",
       "      <th>latitude</th>\n",
       "      <th>housing_median_age</th>\n",
       "      <th>total_rooms</th>\n",
       "      <th>total_bedrooms</th>\n",
       "      <th>population</th>\n",
       "      <th>households</th>\n",
       "      <th>median_income</th>\n",
       "      <th>median_house_value</th>\n",
       "    </tr>\n",
       "  </thead>\n",
       "  <tbody>\n",
       "    <tr>\n",
       "      <th>count</th>\n",
       "      <td>20640.000000</td>\n",
       "      <td>20640.000000</td>\n",
       "      <td>20640.000000</td>\n",
       "      <td>20640.000000</td>\n",
       "      <td>20433.000000</td>\n",
       "      <td>20640.000000</td>\n",
       "      <td>20640.000000</td>\n",
       "      <td>20640.000000</td>\n",
       "      <td>20640.000000</td>\n",
       "    </tr>\n",
       "    <tr>\n",
       "      <th>mean</th>\n",
       "      <td>-119.569704</td>\n",
       "      <td>35.631861</td>\n",
       "      <td>28.639486</td>\n",
       "      <td>2635.763081</td>\n",
       "      <td>537.870553</td>\n",
       "      <td>1425.476744</td>\n",
       "      <td>499.539680</td>\n",
       "      <td>3.870671</td>\n",
       "      <td>206855.816909</td>\n",
       "    </tr>\n",
       "    <tr>\n",
       "      <th>std</th>\n",
       "      <td>2.003532</td>\n",
       "      <td>2.135952</td>\n",
       "      <td>12.585558</td>\n",
       "      <td>2181.615252</td>\n",
       "      <td>421.385070</td>\n",
       "      <td>1132.462122</td>\n",
       "      <td>382.329753</td>\n",
       "      <td>1.899822</td>\n",
       "      <td>115395.615874</td>\n",
       "    </tr>\n",
       "    <tr>\n",
       "      <th>min</th>\n",
       "      <td>-124.350000</td>\n",
       "      <td>32.540000</td>\n",
       "      <td>1.000000</td>\n",
       "      <td>2.000000</td>\n",
       "      <td>1.000000</td>\n",
       "      <td>3.000000</td>\n",
       "      <td>1.000000</td>\n",
       "      <td>0.499900</td>\n",
       "      <td>14999.000000</td>\n",
       "    </tr>\n",
       "    <tr>\n",
       "      <th>25%</th>\n",
       "      <td>-121.800000</td>\n",
       "      <td>33.930000</td>\n",
       "      <td>18.000000</td>\n",
       "      <td>1447.750000</td>\n",
       "      <td>296.000000</td>\n",
       "      <td>787.000000</td>\n",
       "      <td>280.000000</td>\n",
       "      <td>2.563400</td>\n",
       "      <td>119600.000000</td>\n",
       "    </tr>\n",
       "    <tr>\n",
       "      <th>50%</th>\n",
       "      <td>-118.490000</td>\n",
       "      <td>34.260000</td>\n",
       "      <td>29.000000</td>\n",
       "      <td>2127.000000</td>\n",
       "      <td>435.000000</td>\n",
       "      <td>1166.000000</td>\n",
       "      <td>409.000000</td>\n",
       "      <td>3.534800</td>\n",
       "      <td>179700.000000</td>\n",
       "    </tr>\n",
       "    <tr>\n",
       "      <th>75%</th>\n",
       "      <td>-118.010000</td>\n",
       "      <td>37.710000</td>\n",
       "      <td>37.000000</td>\n",
       "      <td>3148.000000</td>\n",
       "      <td>647.000000</td>\n",
       "      <td>1725.000000</td>\n",
       "      <td>605.000000</td>\n",
       "      <td>4.743250</td>\n",
       "      <td>264725.000000</td>\n",
       "    </tr>\n",
       "    <tr>\n",
       "      <th>max</th>\n",
       "      <td>-114.310000</td>\n",
       "      <td>41.950000</td>\n",
       "      <td>52.000000</td>\n",
       "      <td>39320.000000</td>\n",
       "      <td>6445.000000</td>\n",
       "      <td>35682.000000</td>\n",
       "      <td>6082.000000</td>\n",
       "      <td>15.000100</td>\n",
       "      <td>500001.000000</td>\n",
       "    </tr>\n",
       "  </tbody>\n",
       "</table>\n",
       "</div>"
      ],
      "text/plain": [
       "          longitude      latitude  housing_median_age   total_rooms  \\\n",
       "count  20640.000000  20640.000000        20640.000000  20640.000000   \n",
       "mean    -119.569704     35.631861           28.639486   2635.763081   \n",
       "std        2.003532      2.135952           12.585558   2181.615252   \n",
       "min     -124.350000     32.540000            1.000000      2.000000   \n",
       "25%     -121.800000     33.930000           18.000000   1447.750000   \n",
       "50%     -118.490000     34.260000           29.000000   2127.000000   \n",
       "75%     -118.010000     37.710000           37.000000   3148.000000   \n",
       "max     -114.310000     41.950000           52.000000  39320.000000   \n",
       "\n",
       "       total_bedrooms    population    households  median_income  \\\n",
       "count    20433.000000  20640.000000  20640.000000   20640.000000   \n",
       "mean       537.870553   1425.476744    499.539680       3.870671   \n",
       "std        421.385070   1132.462122    382.329753       1.899822   \n",
       "min          1.000000      3.000000      1.000000       0.499900   \n",
       "25%        296.000000    787.000000    280.000000       2.563400   \n",
       "50%        435.000000   1166.000000    409.000000       3.534800   \n",
       "75%        647.000000   1725.000000    605.000000       4.743250   \n",
       "max       6445.000000  35682.000000   6082.000000      15.000100   \n",
       "\n",
       "       median_house_value  \n",
       "count        20640.000000  \n",
       "mean        206855.816909  \n",
       "std         115395.615874  \n",
       "min          14999.000000  \n",
       "25%         119600.000000  \n",
       "50%         179700.000000  \n",
       "75%         264725.000000  \n",
       "max         500001.000000  "
      ]
     },
     "execution_count": 5,
     "metadata": {},
     "output_type": "execute_result"
    }
   ],
   "source": [
    "df.describe()"
   ]
  },
  {
   "cell_type": "markdown",
   "id": "a3875d53-0d79-4ded-b82c-d00ac5d15a5b",
   "metadata": {},
   "source": [
    "### 🧹 Checking Missing Values \n",
    "The df.isnull().sum() function returns the total number of missing (NaN) values in each column of the DataFrame."
   ]
  },
  {
   "cell_type": "code",
   "execution_count": 6,
   "id": "bb089b76-aac2-4db1-b02c-d21a4f465080",
   "metadata": {},
   "outputs": [
    {
     "data": {
      "text/plain": [
       "longitude               0\n",
       "latitude                0\n",
       "housing_median_age      0\n",
       "total_rooms             0\n",
       "total_bedrooms        207\n",
       "population              0\n",
       "households              0\n",
       "median_income           0\n",
       "median_house_value      0\n",
       "ocean_proximity         0\n",
       "dtype: int64"
      ]
     },
     "execution_count": 6,
     "metadata": {},
     "output_type": "execute_result"
    }
   ],
   "source": [
    "df.isnull().sum()"
   ]
  },
  {
   "cell_type": "markdown",
   "id": "95a5eee7-59b9-4558-80b5-712ada2c608e",
   "metadata": {},
   "source": [
    "### 📊 Visualizing Missing Data Across Features\n",
    "we converts the count of missing values into a dictionary and then uses a bar chart to visualize the number of missing values in each column."
   ]
  },
  {
   "cell_type": "code",
   "execution_count": 7,
   "id": "2c16d954-5a93-4f99-8faf-e872cd1d3d9e",
   "metadata": {},
   "outputs": [
    {
     "data": {
      "image/png": "[encoded data removed]",
      "text/plain": [
       "<Figure size 3800x1300 with 1 Axes>"
      ]
     },
     "metadata": {},
     "output_type": "display_data"
    }
   ],
   "source": [
    "null_data=df.isnull().sum().to_dict()\n",
    "keys=null_data.keys()\n",
    "values=null_data.values()\n",
    "fig=plt.figure(figsize=(38,13))\n",
    "plt.bar(keys,values)\n",
    "plt.show()"
   ]
  },
  {
   "cell_type": "markdown",
   "id": "e9ad65b6-81e2-4177-b2c5-c9ef22b4188d",
   "metadata": {},
   "source": [
    "### 🔥 Heatmap of Missing Data Pattern\n",
    "\n",
    "we transposes the dataset (`df.transpose()`) and checks for missing values using `.isna()`, resulting in a matrix of True/False values.  \n",
    "The heatmap created using `seaborn` visually represents **which specific cells** in the dataset contain missing values.\n",
    "\n",
    "By transposing the data, columns become rows—making it easier to see the **distribution of missing values across all records**.  \n",
    "This is especially useful for detecting patterns or blocks of missing data that may not be obvious in summary stats.\n"
   ]
  },
  {
   "cell_type": "code",
   "execution_count": 8,
   "id": "47265b7e-201d-44fb-bd56-bbba6bcab543",
   "metadata": {},
   "outputs": [
    {
     "data": {
      "image/png": "[encoded data removed]",
      "text/plain": [
       "<Figure size 2000x1000 with 2 Axes>"
      ]
     },
     "metadata": {},
     "output_type": "display_data"
    }
   ],
   "source": [
    "transposed_data=df.transpose().isna()\n",
    "fig,ax=plt.subplots(figsize=(20,10))\n",
    "sns.heatmap(transposed_data,ax=ax,cmap=\"viridis\")\n",
    "plt.show()"
   ]
  },
  {
   "cell_type": "markdown",
   "id": "2733d366-5476-44ff-b1e4-761fafeda01b",
   "metadata": {},
   "source": [
    "### 🌊 Identifying Unique Categories in 'ocean_proximity'\n",
    "\n",
    "The `df['ocean_proximity'].unique()` function returns all **distinct categories** present in the `'ocean_proximity'` column.  \n",
    "Since this is a **categorical feature**, understanding its unique values is essential before applying encoding techniques like one-hot encoding or label encoding.\n",
    "\n",
    "This step helps in assessing how many **geographical categories** (e.g., 'NEAR BAY', 'INLAND') exist and prepares for transforming them into numerical format for modeling.\n"
   ]
  },
  {
   "cell_type": "code",
   "execution_count": 9,
   "id": "6d875d7e-d1eb-49ec-b4e7-24e3bef4c502",
   "metadata": {},
   "outputs": [
    {
     "data": {
      "text/plain": [
       "array(['NEAR BAY', '<1H OCEAN', 'INLAND', 'NEAR OCEAN', 'ISLAND'],\n",
       "      dtype=object)"
      ]
     },
     "execution_count": 9,
     "metadata": {},
     "output_type": "execute_result"
    }
   ],
   "source": [
    "df['ocean_proximity'].unique()"
   ]
  },
  {
   "cell_type": "markdown",
   "id": "ae7cad0a-c92b-4c9c-8d4a-c91efc90cb95",
   "metadata": {},
   "source": [
    "### 🔢 Encoding 'ocean_proximity' into Numerical Format\n",
    "\n",
    "Here, the `LabelEncoder` is used to convert the **categorical values** in the `'ocean_proximity'` column into **integer labels** and store them in a new column called `'en_ocean_proximity'`.  \n",
    "This transformation is essential because machine learning models require numerical input.\n",
    "\n",
    "The original `'ocean_proximity'` column is then dropped using `df.drop()`, leaving behind its encoded version to be used in model training.\n"
   ]
  },
  {
   "cell_type": "code",
   "execution_count": 10,
   "id": "0affbcbb-e9ce-452e-9b71-ef1fcb6f771b",
   "metadata": {},
   "outputs": [
    {
     "data": {
      "text/plain": [
       "0        3\n",
       "1        3\n",
       "2        3\n",
       "3        3\n",
       "4        3\n",
       "        ..\n",
       "20635    1\n",
       "20636    1\n",
       "20637    1\n",
       "20638    1\n",
       "20639    1\n",
       "Name: en_ocean_proximity, Length: 20640, dtype: int32"
      ]
     },
     "execution_count": 10,
     "metadata": {},
     "output_type": "execute_result"
    }
   ],
   "source": [
    "\n",
    "encode=LabelEncoder()\n",
    "df['en_ocean_proximity']=encode.fit_transform(df['ocean_proximity'])\n",
    "df.drop('ocean_proximity',axis=1,inplace=True)\n",
    "df['en_ocean_proximity']"
   ]
  },
  {
   "cell_type": "markdown",
   "id": "7787e3e5-6d52-4a0f-8522-c71d87ec9dc7",
   "metadata": {},
   "source": [
    "### 🧾 Displaying the First Few Rows after transformation\n",
    "\n",
    "The `df.head()` function displays the **first 5 rows** of the DataFrame, allowing a quick look at the structure and contents of the dataset after preprocessing.  \n",
    "This helps verify that transformations (like encoding and column removal) have been applied correctly and the data is in the right format for analysis or modeling.\n"
   ]
  },
  {
   "cell_type": "code",
   "execution_count": 11,
   "id": "624462fe-bd02-45dd-afc4-4b13da844402",
   "metadata": {},
   "outputs": [
    {
     "data": {
      "text/html": [
       "<div>\n",
       "<style scoped>\n",
       "    .dataframe tbody tr th:only-of-type {\n",
       "        vertical-align: middle;\n",
       "    }\n",
       "\n",
       "    .dataframe tbody tr th {\n",
       "        vertical-align: top;\n",
       "    }\n",
       "\n",
       "    .dataframe thead th {\n",
       "        text-align: right;\n",
       "    }\n",
       "</style>\n",
       "<table border=\"1\" class=\"dataframe\">\n",
       "  <thead>\n",
       "    <tr style=\"text-align: right;\">\n",
       "      <th></th>\n",
       "      <th>longitude</th>\n",
       "      <th>latitude</th>\n",
       "      <th>housing_median_age</th>\n",
       "      <th>total_rooms</th>\n",
       "      <th>total_bedrooms</th>\n",
       "      <th>population</th>\n",
       "      <th>households</th>\n",
       "      <th>median_income</th>\n",
       "      <th>median_house_value</th>\n",
       "      <th>en_ocean_proximity</th>\n",
       "    </tr>\n",
       "  </thead>\n",
       "  <tbody>\n",
       "    <tr>\n",
       "      <th>0</th>\n",
       "      <td>-122.23</td>\n",
       "      <td>37.88</td>\n",
       "      <td>41.0</td>\n",
       "      <td>880.0</td>\n",
       "      <td>129.0</td>\n",
       "      <td>322.0</td>\n",
       "      <td>126.0</td>\n",
       "      <td>8.3252</td>\n",
       "      <td>452600.0</td>\n",
       "      <td>3</td>\n",
       "    </tr>\n",
       "    <tr>\n",
       "      <th>1</th>\n",
       "      <td>-122.22</td>\n",
       "      <td>37.86</td>\n",
       "      <td>21.0</td>\n",
       "      <td>7099.0</td>\n",
       "      <td>1106.0</td>\n",
       "      <td>2401.0</td>\n",
       "      <td>1138.0</td>\n",
       "      <td>8.3014</td>\n",
       "      <td>358500.0</td>\n",
       "      <td>3</td>\n",
       "    </tr>\n",
       "    <tr>\n",
       "      <th>2</th>\n",
       "      <td>-122.24</td>\n",
       "      <td>37.85</td>\n",
       "      <td>52.0</td>\n",
       "      <td>1467.0</td>\n",
       "      <td>190.0</td>\n",
       "      <td>496.0</td>\n",
       "      <td>177.0</td>\n",
       "      <td>7.2574</td>\n",
       "      <td>352100.0</td>\n",
       "      <td>3</td>\n",
       "    </tr>\n",
       "    <tr>\n",
       "      <th>3</th>\n",
       "      <td>-122.25</td>\n",
       "      <td>37.85</td>\n",
       "      <td>52.0</td>\n",
       "      <td>1274.0</td>\n",
       "      <td>235.0</td>\n",
       "      <td>558.0</td>\n",
       "      <td>219.0</td>\n",
       "      <td>5.6431</td>\n",
       "      <td>341300.0</td>\n",
       "      <td>3</td>\n",
       "    </tr>\n",
       "    <tr>\n",
       "      <th>4</th>\n",
       "      <td>-122.25</td>\n",
       "      <td>37.85</td>\n",
       "      <td>52.0</td>\n",
       "      <td>1627.0</td>\n",
       "      <td>280.0</td>\n",
       "      <td>565.0</td>\n",
       "      <td>259.0</td>\n",
       "      <td>3.8462</td>\n",
       "      <td>342200.0</td>\n",
       "      <td>3</td>\n",
       "    </tr>\n",
       "  </tbody>\n",
       "</table>\n",
       "</div>"
      ],
      "text/plain": [
       "   longitude  latitude  housing_median_age  total_rooms  total_bedrooms  \\\n",
       "0    -122.23     37.88                41.0        880.0           129.0   \n",
       "1    -122.22     37.86                21.0       7099.0          1106.0   \n",
       "2    -122.24     37.85                52.0       1467.0           190.0   \n",
       "3    -122.25     37.85                52.0       1274.0           235.0   \n",
       "4    -122.25     37.85                52.0       1627.0           280.0   \n",
       "\n",
       "   population  households  median_income  median_house_value  \\\n",
       "0       322.0       126.0         8.3252            452600.0   \n",
       "1      2401.0      1138.0         8.3014            358500.0   \n",
       "2       496.0       177.0         7.2574            352100.0   \n",
       "3       558.0       219.0         5.6431            341300.0   \n",
       "4       565.0       259.0         3.8462            342200.0   \n",
       "\n",
       "   en_ocean_proximity  \n",
       "0                   3  \n",
       "1                   3  \n",
       "2                   3  \n",
       "3                   3  \n",
       "4                   3  "
      ]
     },
     "execution_count": 11,
     "metadata": {},
     "output_type": "execute_result"
    }
   ],
   "source": [
    "df.head()"
   ]
  },
  {
   "cell_type": "markdown",
   "id": "a78c8e10-f1bc-406b-a999-19466877bd2b",
   "metadata": {},
   "source": [
    "### ⚖️ Feature Scaling Using StandardScaler\n",
    "\n",
    "we apply **Standardization** to the dataset using `StandardScaler`, which transforms each feature to have **zero mean and unit variance**.  \n",
    "It ensures that all features contribute equally to the model and helps improve the performance of algorithms sensitive to feature scale.\n",
    "\n",
    "The scaled values are stored in a new DataFrame `data_scaled`, preserving the original column names and row indices for consistency.\n"
   ]
  },
  {
   "cell_type": "code",
   "execution_count": 12,
   "id": "a7327c17-d1ba-4505-80da-bf91ecf68fb0",
   "metadata": {},
   "outputs": [
    {
     "data": {
      "text/html": [
       "<div>\n",
       "<style scoped>\n",
       "    .dataframe tbody tr th:only-of-type {\n",
       "        vertical-align: middle;\n",
       "    }\n",
       "\n",
       "    .dataframe tbody tr th {\n",
       "        vertical-align: top;\n",
       "    }\n",
       "\n",
       "    .dataframe thead th {\n",
       "        text-align: right;\n",
       "    }\n",
       "</style>\n",
       "<table border=\"1\" class=\"dataframe\">\n",
       "  <thead>\n",
       "    <tr style=\"text-align: right;\">\n",
       "      <th></th>\n",
       "      <th>longitude</th>\n",
       "      <th>latitude</th>\n",
       "      <th>housing_median_age</th>\n",
       "      <th>total_rooms</th>\n",
       "      <th>total_bedrooms</th>\n",
       "      <th>population</th>\n",
       "      <th>households</th>\n",
       "      <th>median_income</th>\n",
       "      <th>median_house_value</th>\n",
       "      <th>en_ocean_proximity</th>\n",
       "    </tr>\n",
       "  </thead>\n",
       "  <tbody>\n",
       "    <tr>\n",
       "      <th>0</th>\n",
       "      <td>-1.327835</td>\n",
       "      <td>1.052548</td>\n",
       "      <td>0.982143</td>\n",
       "      <td>-0.804819</td>\n",
       "      <td>-0.970325</td>\n",
       "      <td>-0.974429</td>\n",
       "      <td>-0.977033</td>\n",
       "      <td>2.344766</td>\n",
       "      <td>2.129631</td>\n",
       "      <td>1.291089</td>\n",
       "    </tr>\n",
       "    <tr>\n",
       "      <th>1</th>\n",
       "      <td>-1.322844</td>\n",
       "      <td>1.043185</td>\n",
       "      <td>-0.607019</td>\n",
       "      <td>2.045890</td>\n",
       "      <td>1.348276</td>\n",
       "      <td>0.861439</td>\n",
       "      <td>1.669961</td>\n",
       "      <td>2.332238</td>\n",
       "      <td>1.314156</td>\n",
       "      <td>1.291089</td>\n",
       "    </tr>\n",
       "    <tr>\n",
       "      <th>2</th>\n",
       "      <td>-1.332827</td>\n",
       "      <td>1.038503</td>\n",
       "      <td>1.856182</td>\n",
       "      <td>-0.535746</td>\n",
       "      <td>-0.825561</td>\n",
       "      <td>-0.820777</td>\n",
       "      <td>-0.843637</td>\n",
       "      <td>1.782699</td>\n",
       "      <td>1.258693</td>\n",
       "      <td>1.291089</td>\n",
       "    </tr>\n",
       "    <tr>\n",
       "      <th>3</th>\n",
       "      <td>-1.337818</td>\n",
       "      <td>1.038503</td>\n",
       "      <td>1.856182</td>\n",
       "      <td>-0.624215</td>\n",
       "      <td>-0.718768</td>\n",
       "      <td>-0.766028</td>\n",
       "      <td>-0.733781</td>\n",
       "      <td>0.932968</td>\n",
       "      <td>1.165100</td>\n",
       "      <td>1.291089</td>\n",
       "    </tr>\n",
       "    <tr>\n",
       "      <th>4</th>\n",
       "      <td>-1.337818</td>\n",
       "      <td>1.038503</td>\n",
       "      <td>1.856182</td>\n",
       "      <td>-0.462404</td>\n",
       "      <td>-0.611974</td>\n",
       "      <td>-0.759847</td>\n",
       "      <td>-0.629157</td>\n",
       "      <td>-0.012881</td>\n",
       "      <td>1.172900</td>\n",
       "      <td>1.291089</td>\n",
       "    </tr>\n",
       "    <tr>\n",
       "      <th>...</th>\n",
       "      <td>...</td>\n",
       "      <td>...</td>\n",
       "      <td>...</td>\n",
       "      <td>...</td>\n",
       "      <td>...</td>\n",
       "      <td>...</td>\n",
       "      <td>...</td>\n",
       "      <td>...</td>\n",
       "      <td>...</td>\n",
       "      <td>...</td>\n",
       "    </tr>\n",
       "    <tr>\n",
       "      <th>20635</th>\n",
       "      <td>-0.758826</td>\n",
       "      <td>1.801647</td>\n",
       "      <td>-0.289187</td>\n",
       "      <td>-0.444985</td>\n",
       "      <td>-0.388895</td>\n",
       "      <td>-0.512592</td>\n",
       "      <td>-0.443449</td>\n",
       "      <td>-1.216128</td>\n",
       "      <td>-1.115804</td>\n",
       "      <td>-0.116739</td>\n",
       "    </tr>\n",
       "    <tr>\n",
       "      <th>20636</th>\n",
       "      <td>-0.818722</td>\n",
       "      <td>1.806329</td>\n",
       "      <td>-0.845393</td>\n",
       "      <td>-0.888704</td>\n",
       "      <td>-0.920488</td>\n",
       "      <td>-0.944405</td>\n",
       "      <td>-1.008420</td>\n",
       "      <td>-0.691593</td>\n",
       "      <td>-1.124470</td>\n",
       "      <td>-0.116739</td>\n",
       "    </tr>\n",
       "    <tr>\n",
       "      <th>20637</th>\n",
       "      <td>-0.823713</td>\n",
       "      <td>1.778237</td>\n",
       "      <td>-0.924851</td>\n",
       "      <td>-0.174995</td>\n",
       "      <td>-0.125472</td>\n",
       "      <td>-0.369537</td>\n",
       "      <td>-0.174042</td>\n",
       "      <td>-1.142593</td>\n",
       "      <td>-0.992746</td>\n",
       "      <td>-0.116739</td>\n",
       "    </tr>\n",
       "    <tr>\n",
       "      <th>20638</th>\n",
       "      <td>-0.873626</td>\n",
       "      <td>1.778237</td>\n",
       "      <td>-0.845393</td>\n",
       "      <td>-0.355600</td>\n",
       "      <td>-0.305834</td>\n",
       "      <td>-0.604429</td>\n",
       "      <td>-0.393753</td>\n",
       "      <td>-1.054583</td>\n",
       "      <td>-1.058608</td>\n",
       "      <td>-0.116739</td>\n",
       "    </tr>\n",
       "    <tr>\n",
       "      <th>20639</th>\n",
       "      <td>-0.833696</td>\n",
       "      <td>1.750146</td>\n",
       "      <td>-1.004309</td>\n",
       "      <td>0.068408</td>\n",
       "      <td>0.185416</td>\n",
       "      <td>-0.033977</td>\n",
       "      <td>0.079672</td>\n",
       "      <td>-0.780129</td>\n",
       "      <td>-1.017878</td>\n",
       "      <td>-0.116739</td>\n",
       "    </tr>\n",
       "  </tbody>\n",
       "</table>\n",
       "<p>20640 rows × 10 columns</p>\n",
       "</div>"
      ],
      "text/plain": [
       "       longitude  latitude  housing_median_age  total_rooms  total_bedrooms  \\\n",
       "0      -1.327835  1.052548            0.982143    -0.804819       -0.970325   \n",
       "1      -1.322844  1.043185           -0.607019     2.045890        1.348276   \n",
       "2      -1.332827  1.038503            1.856182    -0.535746       -0.825561   \n",
       "3      -1.337818  1.038503            1.856182    -0.624215       -0.718768   \n",
       "4      -1.337818  1.038503            1.856182    -0.462404       -0.611974   \n",
       "...          ...       ...                 ...          ...             ...   \n",
       "20635  -0.758826  1.801647           -0.289187    -0.444985       -0.388895   \n",
       "20636  -0.818722  1.806329           -0.845393    -0.888704       -0.920488   \n",
       "20637  -0.823713  1.778237           -0.924851    -0.174995       -0.125472   \n",
       "20638  -0.873626  1.778237           -0.845393    -0.355600       -0.305834   \n",
       "20639  -0.833696  1.750146           -1.004309     0.068408        0.185416   \n",
       "\n",
       "       population  households  median_income  median_house_value  \\\n",
       "0       -0.974429   -0.977033       2.344766            2.129631   \n",
       "1        0.861439    1.669961       2.332238            1.314156   \n",
       "2       -0.820777   -0.843637       1.782699            1.258693   \n",
       "3       -0.766028   -0.733781       0.932968            1.165100   \n",
       "4       -0.759847   -0.629157      -0.012881            1.172900   \n",
       "...           ...         ...            ...                 ...   \n",
       "20635   -0.512592   -0.443449      -1.216128           -1.115804   \n",
       "20636   -0.944405   -1.008420      -0.691593           -1.124470   \n",
       "20637   -0.369537   -0.174042      -1.142593           -0.992746   \n",
       "20638   -0.604429   -0.393753      -1.054583           -1.058608   \n",
       "20639   -0.033977    0.079672      -0.780129           -1.017878   \n",
       "\n",
       "       en_ocean_proximity  \n",
       "0                1.291089  \n",
       "1                1.291089  \n",
       "2                1.291089  \n",
       "3                1.291089  \n",
       "4                1.291089  \n",
       "...                   ...  \n",
       "20635           -0.116739  \n",
       "20636           -0.116739  \n",
       "20637           -0.116739  \n",
       "20638           -0.116739  \n",
       "20639           -0.116739  \n",
       "\n",
       "[20640 rows x 10 columns]"
      ]
     },
     "execution_count": 12,
     "metadata": {},
     "output_type": "execute_result"
    }
   ],
   "source": [
    "\n",
    "from sklearn.preprocessing import StandardScaler\n",
    "scaler=StandardScaler()\n",
    "data_scaled=pd.DataFrame(scaler.fit_transform(df),columns=df.columns,index=df.index)\n",
    "data_scaled"
   ]
  },
  {
   "cell_type": "markdown",
   "id": "196dbba4-c66d-4e20-b5a7-2766a8044859",
   "metadata": {},
   "source": [
    "### 🧼 Dropping Columns with Missing Values and Checking Data Info\n",
    "\n",
    "we remove  columns from the scaled dataset (`data_scaled`) that still contain **missing values** using `dropna(axis=1)`, and stores the cleaned result in `data_col`.  \n",
    "we then calls `data_col.info()` to display a concise summary of the DataFrame, including the number of non-null entries, column names, and data types.\n",
    "\n",
    "\n"
   ]
  },
  {
   "cell_type": "code",
   "execution_count": 13,
   "id": "5512e69e-f630-40a7-9d23-b49ceef79832",
   "metadata": {},
   "outputs": [
    {
     "name": "stdout",
     "output_type": "stream",
     "text": [
      "<class 'pandas.core.frame.DataFrame'>\n",
      "RangeIndex: 20640 entries, 0 to 20639\n",
      "Data columns (total 9 columns):\n",
      " #   Column              Non-Null Count  Dtype  \n",
      "---  ------              --------------  -----  \n",
      " 0   longitude           20640 non-null  float64\n",
      " 1   latitude            20640 non-null  float64\n",
      " 2   housing_median_age  20640 non-null  float64\n",
      " 3   total_rooms         20640 non-null  float64\n",
      " 4   population          20640 non-null  float64\n",
      " 5   households          20640 non-null  float64\n",
      " 6   median_income       20640 non-null  float64\n",
      " 7   median_house_value  20640 non-null  float64\n",
      " 8   en_ocean_proximity  20640 non-null  float64\n",
      "dtypes: float64(9)\n",
      "memory usage: 1.4 MB\n"
     ]
    }
   ],
   "source": [
    "#eliminating columns containg missing values\n",
    "data_col=data_scaled.dropna(axis=1)\n",
    "data_col.info()"
   ]
  },
  {
   "cell_type": "markdown",
   "id": "f0ab6dc3-8a57-48bf-85bb-c1d59f861199",
   "metadata": {},
   "source": [
    "### 📈 Building and Evaluating a Linear Regression Model by Removing Columns Containning Missing Data\n",
    "\n",
    "In this step, we begin by splitting the dataset into features (`x_col`) and the target variable (`y_col`), which is the `median_house_value`.  \n",
    "We then use `train_test_split()` to divide the data into training and testing sets with 70% for training and 30% for testing.\n",
    "\n",
    "Next, we train a **Linear Regression** model using the training data and make predictions on the test set.  \n",
    "Finally, we evaluate the model using three metrics:\n",
    "- `model.score()` and `r2_score()` to check how well the model explains the variance in house prices\n",
    "- `RMSE` (Root Mean Squared Error) to measure the average prediction error in the same units as the target variable\n"
   ]
  },
  {
   "cell_type": "code",
   "execution_count": 14,
   "id": "10f72915-2c15-43ba-9a58-0c1e5f0dfdd3",
   "metadata": {},
   "outputs": [
    {
     "name": "stdout",
     "output_type": "stream",
     "text": [
      "Score 0.6213596164296769\n",
      "R2 Score: 0.6213596164296769\n",
      "RMSE: 0.6213027801022298\n"
     ]
    }
   ],
   "source": [
    "from sklearn.metrics import mean_squared_error, r2_score\n",
    "from sklearn.model_selection import train_test_split\n",
    "from sklearn.linear_model import LinearRegression\n",
    "y_col=data_col['median_house_value']\n",
    "x_col=data_col.drop('median_house_value',axis=1)\n",
    "x_train,x_test,y_train,y_test=train_test_split(x_col,y_col,test_size=0.3)\n",
    "model=LinearRegression()\n",
    "model.fit(x_train,y_train)\n",
    "y_predict=model.predict(x_test)\n",
    "print(\"Score\", model.score(x_test,y_test))\n",
    "print(\"R2 Score:\", r2_score(y_test, y_predict))\n",
    "print(\"RMSE:\", np.sqrt(mean_squared_error(y_test, y_predict)))"
   ]
  },
  {
   "cell_type": "markdown",
   "id": "f9ca341c-b837-4d64-9eb8-d7f0b95c5209",
   "metadata": {},
   "source": [
    "### 🧼 Dropping Rows with Missing Values and Checking Data Info\n",
    "\n",
    " now we remove  rows from the scaled dataset (`data_scaled`) that still contain **missing values** using `dropna`, and stores the cleaned result in `data_row`.  \n",
    "we then calls `data_row.info()` to display a concise summary of the DataFrame, including the number of non-null entries, column names, and data types.\n",
    "\n",
    "\n"
   ]
  },
  {
   "cell_type": "code",
   "execution_count": 15,
   "id": "286efa25-9d81-4b32-9052-0ca6e942425e",
   "metadata": {},
   "outputs": [
    {
     "name": "stdout",
     "output_type": "stream",
     "text": [
      "<class 'pandas.core.frame.DataFrame'>\n",
      "Index: 20433 entries, 0 to 20639\n",
      "Data columns (total 10 columns):\n",
      " #   Column              Non-Null Count  Dtype  \n",
      "---  ------              --------------  -----  \n",
      " 0   longitude           20433 non-null  float64\n",
      " 1   latitude            20433 non-null  float64\n",
      " 2   housing_median_age  20433 non-null  float64\n",
      " 3   total_rooms         20433 non-null  float64\n",
      " 4   total_bedrooms      20433 non-null  float64\n",
      " 5   population          20433 non-null  float64\n",
      " 6   households          20433 non-null  float64\n",
      " 7   median_income       20433 non-null  float64\n",
      " 8   median_house_value  20433 non-null  float64\n",
      " 9   en_ocean_proximity  20433 non-null  float64\n",
      "dtypes: float64(10)\n",
      "memory usage: 1.7 MB\n"
     ]
    }
   ],
   "source": [
    "#eliminating rows containg missing values\n",
    "data_row=data_scaled.dropna()\n",
    "data_row.info()"
   ]
  },
  {
   "cell_type": "markdown",
   "id": "4821ea47-d383-432e-82d4-9a7793a7b50d",
   "metadata": {},
   "source": [
    "### 📈 Building and Evaluating a Linear Regression Model by Removing Rows Containning Missing Data\n",
    "now we train a linear regression model using the `data_row`dataset .now we compare both models and deciede whether to delete rows or columns containing missing values."
   ]
  },
  {
   "cell_type": "code",
   "execution_count": 16,
   "id": "69f0b0ad-c20d-4399-9a66-93fce1b80a12",
   "metadata": {},
   "outputs": [
    {
     "name": "stdout",
     "output_type": "stream",
     "text": [
      "Score 0.6227677564940453\n",
      "R2 Score: 0.6227677564940453\n",
      "RMSE: 0.6123957245542443\n"
     ]
    }
   ],
   "source": [
    "\n",
    "from sklearn.metrics import mean_squared_error, r2_score\n",
    "from sklearn.model_selection import train_test_split\n",
    "from sklearn.linear_model import LinearRegression\n",
    "y_row=data_row['median_house_value']\n",
    "x_row=data_row.drop('median_house_value',axis=1)\n",
    "x_train,x_test,y_train,y_test=train_test_split(x_row,y_row,test_size=0.3)\n",
    "model=LinearRegression()\n",
    "model.fit(x_train,y_train)\n",
    "y_predict=model.predict(x_test)\n",
    "print(\"Score\", model.score(x_test,y_test))\n",
    "print(\"R2 Score:\", r2_score(y_test, y_predict))\n",
    "print(\"RMSE:\", np.sqrt(mean_squared_error(y_test, y_predict)))"
   ]
  },
  {
   "cell_type": "markdown",
   "id": "eb37abe6-4a6c-42fc-866b-aa0eb80116fc",
   "metadata": {},
   "source": [
    "### 🛠️ Handling Missing Values with Median Imputation and Model Evaluation\n",
    "\n",
    "In this step, we handle missing values in the `total_bedrooms` column by replacing them with the **median** of that column.  \n",
    "This technique preserves the distribution better than mean imputation, especially in the presence of outliers.\n",
    "\n",
    "After filling the missing values, we split the data into training and testing sets, train a **Linear Regression** model, and evaluate its performance using:\n",
    "- `model.score()` and `r2_score()` to measure how well the model fits the data  \n",
    "- `RMSE` to estimate the average prediction error in house price units\n",
    "\n",
    "This helps us compare how **median imputation** affects model performance compared to other missing data strategies.\n"
   ]
  },
  {
   "cell_type": "code",
   "execution_count": 17,
   "id": "ff186dbb-2fe2-4f0c-a7eb-63e89d14a43a",
   "metadata": {},
   "outputs": [
    {
     "name": "stdout",
     "output_type": "stream",
     "text": [
      "Score 0.6246552364808077\n",
      "R2 Score: 0.6246552364808077\n",
      "RMSE: 0.61227043838211\n"
     ]
    }
   ],
   "source": [
    "\n",
    "mdn=data_scaled.total_bedrooms.median()\n",
    "data_mdn=data_scaled.fillna({'total_bedrooms':mdn})\n",
    "y_mdn=data_mdn['median_house_value']\n",
    "x_mdn=data_mdn.drop('median_house_value',axis=1)\n",
    "x_train,x_test,y_train,y_test=train_test_split(x_mdn,y_mdn,test_size=0.3)\n",
    "model=LinearRegression()\n",
    "model.fit(x_train,y_train)\n",
    "y_predict=model.predict(x_test)\n",
    "print(\"Score\", model.score(x_test,y_test))\n",
    "print(\"R2 Score:\", r2_score(y_test, y_predict))\n",
    "print(\"RMSE:\", np.sqrt(mean_squared_error(y_test, y_predict)))"
   ]
  },
  {
   "cell_type": "markdown",
   "id": "29e22ae8-9d46-4e8b-9ba7-8af9e9347802",
   "metadata": {},
   "source": [
    "### 🧮 Mean Imputation for Missing Values and Model Evaluation\n",
    "\n",
    "In this section, we fill the missing values in the `total_bedrooms` column using the **mean** of that column.  \n",
    "Mean imputation is a simple and commonly used method to handle missing data while retaining the overall size of the dataset.\n",
    "\n",
    "We then train a **Linear Regression** model on the data and evaluate it using:\n",
    "- `R² Score` to assess the proportion of variance explained by the model  \n",
    "- `RMSE` to measure the average error between actual and predicted house prices\n",
    "\n",
    "By comparing this with the **median imputation** approach, we can see which strategy gives better model performance.\n"
   ]
  },
  {
   "cell_type": "code",
   "execution_count": 18,
   "id": "04a423e3-b885-43d0-bc4a-274dc052a75f",
   "metadata": {},
   "outputs": [
    {
     "name": "stdout",
     "output_type": "stream",
     "text": [
      "Score 0.6302800813893871\n",
      "R2 Score: 0.6302800813893871\n",
      "RMSE: 0.6076503759284649\n"
     ]
    }
   ],
   "source": [
    "#filling missing values with scaled mean\n",
    "mn=data_scaled.total_bedrooms.mean()\n",
    "data_mn=data_scaled.fillna({'total_bedrooms':mn})\n",
    "y_mn=data_mn['median_house_value']\n",
    "x_mn=data_mn.drop('median_house_value',axis=1)\n",
    "x_train,x_test,y_train,y_test=train_test_split(x_mdn,y_mdn,test_size=0.3)\n",
    "model=LinearRegression()\n",
    "model.fit(x_train,y_train)\n",
    "y_predict=model.predict(x_test)\n",
    "print(\"Score\", model.score(x_test,y_test))\n",
    "print(\"R2 Score:\", r2_score(y_test, y_predict))\n",
    "print(\"RMSE:\", np.sqrt(mean_squared_error(y_test, y_predict)))"
   ]
  },
  {
   "cell_type": "markdown",
   "id": "8e541760-6408-4d68-979f-e98313513cca",
   "metadata": {},
   "source": [
    "### 📊 Mode Imputation for Missing Values and Model Evaluation\n",
    "\n",
    "In this part, we handle missing values in the `total_bedrooms` column by filling them with the **mode** (most frequently occurring value).  \n",
    "This is especially useful when the feature is **discrete or has repeated values**, as it reflects the most common case in the data.\n",
    "\n",
    "After imputation, we split the data, train a **Linear Regression** model, and evaluate it using:\n",
    "- `R² Score` to measure how well the model fits  \n",
    "- `RMSE` to understand the average prediction error\n",
    "\n",
    "By comparing the results from **mean**, **median**, and **mode** imputation, we can decide which strategy gives the most reliable predictions for this dataset.\n"
   ]
  },
  {
   "cell_type": "code",
   "execution_count": 19,
   "id": "081ead88-5444-4eef-838b-04425438f28f",
   "metadata": {},
   "outputs": [
    {
     "name": "stdout",
     "output_type": "stream",
     "text": [
      "Score 0.6325668661122857\n",
      "R2 Score: 0.6325668661122857\n",
      "RMSE: 0.6107172673910843\n"
     ]
    }
   ],
   "source": [
    "\n",
    "md=data_scaled.total_bedrooms.mode()[0]\n",
    "data_md=data_scaled.fillna({'total_bedrooms':md})\n",
    "y_md=data_md['median_house_value']\n",
    "x_md=data_md.drop('median_house_value',axis=1)\n",
    "x_train,x_test,y_train,y_test=train_test_split(x_mdn,y_mdn,test_size=0.3)\n",
    "model=LinearRegression()\n",
    "model.fit(x_train,y_train)\n",
    "y_predict=model.predict(x_test)\n",
    "print(\"Score\", model.score(x_test,y_test))\n",
    "print(\"R2 Score:\", r2_score(y_test, y_predict))\n",
    "print(\"RMSE:\", np.sqrt(mean_squared_error(y_test, y_predict)))"
   ]
  },
  {
   "cell_type": "markdown",
   "id": "39e29e6c-4a29-4e55-a213-25db2e910144",
   "metadata": {},
   "source": [
    "### ✅ Conclusion on Handling Missing Values\n",
    "\n",
    "We've used various methods to handle missing values, including **row removal**,**column removal**, **median imputation**, **mean imputation**, and **mode imputation**.  \n",
    "After evaluating each method using a Linear Regression model, we concluded that **filling missing values with the mean** provides better accuracy in this case.\n",
    "### 🔍 Verifying Missing Values After Mean Imputation\n",
    "\n",
    "We use `data_mn.isna().sum()` to confirm that all missing values in the dataset have been successfully filled.  \n",
    "This check ensures that our **mean imputation** for the `total_bedrooms` column was applied correctly and that the dataset is now fully complete and ready for modeling.\n"
   ]
  },
  {
   "cell_type": "code",
   "execution_count": 20,
   "id": "f26fd894-a287-4e26-8138-8764974e72ed",
   "metadata": {},
   "outputs": [
    {
     "data": {
      "text/plain": [
       "longitude             0\n",
       "latitude              0\n",
       "housing_median_age    0\n",
       "total_rooms           0\n",
       "total_bedrooms        0\n",
       "population            0\n",
       "households            0\n",
       "median_income         0\n",
       "median_house_value    0\n",
       "en_ocean_proximity    0\n",
       "dtype: int64"
      ]
     },
     "execution_count": 20,
     "metadata": {},
     "output_type": "execute_result"
    }
   ],
   "source": [
    "data_mn.isna().sum()"
   ]
  },
  {
   "cell_type": "markdown",
   "id": "1eb8b685-e551-41c3-bd77-577622a4b217",
   "metadata": {},
   "source": [
    "we can conclude that there are no missing values in the above dataset"
   ]
  },
  {
   "cell_type": "markdown",
   "id": "2b870f90-5e7a-4fbe-9388-69afbbf046f5",
   "metadata": {},
   "source": [
    "### 🧾 Final Dataset Summary and Structure Check\n",
    "\n",
    "We call `data_mn.info()` to get a concise overview of the dataset, including the number of non-null entries and data types.  \n",
    "Then, we use `data_mn.dtypes` to inspect the data types of each column, ensuring that all features are in the correct format for modeling.\n",
    "\n",
    "Lastly, `data_mn.describe()` provides summary statistics for each numerical column — including mean, standard deviation, and percentiles — helping us understand the distribution of values across the dataset after imputation.\n"
   ]
  },
  {
   "cell_type": "code",
   "execution_count": 21,
   "id": "e181265d-c9e8-4250-aeff-35e0b39d31af",
   "metadata": {},
   "outputs": [
    {
     "name": "stdout",
     "output_type": "stream",
     "text": [
      "<class 'pandas.core.frame.DataFrame'>\n",
      "RangeIndex: 20640 entries, 0 to 20639\n",
      "Data columns (total 10 columns):\n",
      " #   Column              Non-Null Count  Dtype  \n",
      "---  ------              --------------  -----  \n",
      " 0   longitude           20640 non-null  float64\n",
      " 1   latitude            20640 non-null  float64\n",
      " 2   housing_median_age  20640 non-null  float64\n",
      " 3   total_rooms         20640 non-null  float64\n",
      " 4   total_bedrooms      20640 non-null  float64\n",
      " 5   population          20640 non-null  float64\n",
      " 6   households          20640 non-null  float64\n",
      " 7   median_income       20640 non-null  float64\n",
      " 8   median_house_value  20640 non-null  float64\n",
      " 9   en_ocean_proximity  20640 non-null  float64\n",
      "dtypes: float64(10)\n",
      "memory usage: 1.6 MB\n"
     ]
    }
   ],
   "source": [
    "data_mn.info()"
   ]
  },
  {
   "cell_type": "code",
   "execution_count": 22,
   "id": "870d2be2-6e11-43f1-a7f5-0c48cf9d7c30",
   "metadata": {},
   "outputs": [
    {
     "data": {
      "text/plain": [
       "longitude             float64\n",
       "latitude              float64\n",
       "housing_median_age    float64\n",
       "total_rooms           float64\n",
       "total_bedrooms        float64\n",
       "population            float64\n",
       "households            float64\n",
       "median_income         float64\n",
       "median_house_value    float64\n",
       "en_ocean_proximity    float64\n",
       "dtype: object"
      ]
     },
     "execution_count": 22,
     "metadata": {},
     "output_type": "execute_result"
    }
   ],
   "source": [
    "data_mn.dtypes"
   ]
  },
  {
   "cell_type": "code",
   "execution_count": 23,
   "id": "2711ac33-c579-4a7d-a168-5a42ecd01d69",
   "metadata": {},
   "outputs": [
    {
     "data": {
      "text/html": [
       "<div>\n",
       "<style scoped>\n",
       "    .dataframe tbody tr th:only-of-type {\n",
       "        vertical-align: middle;\n",
       "    }\n",
       "\n",
       "    .dataframe tbody tr th {\n",
       "        vertical-align: top;\n",
       "    }\n",
       "\n",
       "    .dataframe thead th {\n",
       "        text-align: right;\n",
       "    }\n",
       "</style>\n",
       "<table border=\"1\" class=\"dataframe\">\n",
       "  <thead>\n",
       "    <tr style=\"text-align: right;\">\n",
       "      <th></th>\n",
       "      <th>longitude</th>\n",
       "      <th>latitude</th>\n",
       "      <th>housing_median_age</th>\n",
       "      <th>total_rooms</th>\n",
       "      <th>total_bedrooms</th>\n",
       "      <th>population</th>\n",
       "      <th>households</th>\n",
       "      <th>median_income</th>\n",
       "      <th>median_house_value</th>\n",
       "      <th>en_ocean_proximity</th>\n",
       "    </tr>\n",
       "  </thead>\n",
       "  <tbody>\n",
       "    <tr>\n",
       "      <th>count</th>\n",
       "      <td>2.064000e+04</td>\n",
       "      <td>2.064000e+04</td>\n",
       "      <td>2.064000e+04</td>\n",
       "      <td>2.064000e+04</td>\n",
       "      <td>2.064000e+04</td>\n",
       "      <td>2.064000e+04</td>\n",
       "      <td>2.064000e+04</td>\n",
       "      <td>2.064000e+04</td>\n",
       "      <td>2.064000e+04</td>\n",
       "      <td>2.064000e+04</td>\n",
       "    </tr>\n",
       "    <tr>\n",
       "      <th>mean</th>\n",
       "      <td>-8.526513e-15</td>\n",
       "      <td>-1.079584e-15</td>\n",
       "      <td>5.508083e-18</td>\n",
       "      <td>3.201573e-17</td>\n",
       "      <td>-7.160508e-17</td>\n",
       "      <td>-1.101617e-17</td>\n",
       "      <td>6.885104e-17</td>\n",
       "      <td>6.609700e-17</td>\n",
       "      <td>-9.363741e-17</td>\n",
       "      <td>-5.508083e-18</td>\n",
       "    </tr>\n",
       "    <tr>\n",
       "      <th>std</th>\n",
       "      <td>1.000024e+00</td>\n",
       "      <td>1.000024e+00</td>\n",
       "      <td>1.000024e+00</td>\n",
       "      <td>1.000024e+00</td>\n",
       "      <td>9.949969e-01</td>\n",
       "      <td>1.000024e+00</td>\n",
       "      <td>1.000024e+00</td>\n",
       "      <td>1.000024e+00</td>\n",
       "      <td>1.000024e+00</td>\n",
       "      <td>1.000024e+00</td>\n",
       "    </tr>\n",
       "    <tr>\n",
       "      <th>min</th>\n",
       "      <td>-2.385992e+00</td>\n",
       "      <td>-1.447568e+00</td>\n",
       "      <td>-2.196180e+00</td>\n",
       "      <td>-1.207283e+00</td>\n",
       "      <td>-1.274093e+00</td>\n",
       "      <td>-1.256123e+00</td>\n",
       "      <td>-1.303984e+00</td>\n",
       "      <td>-1.774299e+00</td>\n",
       "      <td>-1.662641e+00</td>\n",
       "      <td>-8.206532e-01</td>\n",
       "    </tr>\n",
       "    <tr>\n",
       "      <th>25%</th>\n",
       "      <td>-1.113209e+00</td>\n",
       "      <td>-7.967887e-01</td>\n",
       "      <td>-8.453931e-01</td>\n",
       "      <td>-5.445698e-01</td>\n",
       "      <td>-5.716302e-01</td>\n",
       "      <td>-5.638089e-01</td>\n",
       "      <td>-5.742294e-01</td>\n",
       "      <td>-6.881186e-01</td>\n",
       "      <td>-7.561633e-01</td>\n",
       "      <td>-8.206532e-01</td>\n",
       "    </tr>\n",
       "    <tr>\n",
       "      <th>50%</th>\n",
       "      <td>5.389137e-01</td>\n",
       "      <td>-6.422871e-01</td>\n",
       "      <td>2.864572e-02</td>\n",
       "      <td>-2.332104e-01</td>\n",
       "      <td>-2.370112e-01</td>\n",
       "      <td>-2.291318e-01</td>\n",
       "      <td>-2.368162e-01</td>\n",
       "      <td>-1.767951e-01</td>\n",
       "      <td>-2.353337e-01</td>\n",
       "      <td>-1.167392e-01</td>\n",
       "    </tr>\n",
       "    <tr>\n",
       "      <th>75%</th>\n",
       "      <td>7.784964e-01</td>\n",
       "      <td>9.729566e-01</td>\n",
       "      <td>6.643103e-01</td>\n",
       "      <td>2.348028e-01</td>\n",
       "      <td>2.500849e-01</td>\n",
       "      <td>2.644949e-01</td>\n",
       "      <td>2.758427e-01</td>\n",
       "      <td>4.593063e-01</td>\n",
       "      <td>5.014973e-01</td>\n",
       "      <td>-1.167392e-01</td>\n",
       "    </tr>\n",
       "    <tr>\n",
       "      <th>max</th>\n",
       "      <td>2.625280e+00</td>\n",
       "      <td>2.958068e+00</td>\n",
       "      <td>1.856182e+00</td>\n",
       "      <td>1.681558e+01</td>\n",
       "      <td>1.401871e+01</td>\n",
       "      <td>3.025033e+01</td>\n",
       "      <td>1.460152e+01</td>\n",
       "      <td>5.858286e+00</td>\n",
       "      <td>2.540411e+00</td>\n",
       "      <td>1.995003e+00</td>\n",
       "    </tr>\n",
       "  </tbody>\n",
       "</table>\n",
       "</div>"
      ],
      "text/plain": [
       "          longitude      latitude  housing_median_age   total_rooms  \\\n",
       "count  2.064000e+04  2.064000e+04        2.064000e+04  2.064000e+04   \n",
       "mean  -8.526513e-15 -1.079584e-15        5.508083e-18  3.201573e-17   \n",
       "std    1.000024e+00  1.000024e+00        1.000024e+00  1.000024e+00   \n",
       "min   -2.385992e+00 -1.447568e+00       -2.196180e+00 -1.207283e+00   \n",
       "25%   -1.113209e+00 -7.967887e-01       -8.453931e-01 -5.445698e-01   \n",
       "50%    5.389137e-01 -6.422871e-01        2.864572e-02 -2.332104e-01   \n",
       "75%    7.784964e-01  9.729566e-01        6.643103e-01  2.348028e-01   \n",
       "max    2.625280e+00  2.958068e+00        1.856182e+00  1.681558e+01   \n",
       "\n",
       "       total_bedrooms    population    households  median_income  \\\n",
       "count    2.064000e+04  2.064000e+04  2.064000e+04   2.064000e+04   \n",
       "mean    -7.160508e-17 -1.101617e-17  6.885104e-17   6.609700e-17   \n",
       "std      9.949969e-01  1.000024e+00  1.000024e+00   1.000024e+00   \n",
       "min     -1.274093e+00 -1.256123e+00 -1.303984e+00  -1.774299e+00   \n",
       "25%     -5.716302e-01 -5.638089e-01 -5.742294e-01  -6.881186e-01   \n",
       "50%     -2.370112e-01 -2.291318e-01 -2.368162e-01  -1.767951e-01   \n",
       "75%      2.500849e-01  2.644949e-01  2.758427e-01   4.593063e-01   \n",
       "max      1.401871e+01  3.025033e+01  1.460152e+01   5.858286e+00   \n",
       "\n",
       "       median_house_value  en_ocean_proximity  \n",
       "count        2.064000e+04        2.064000e+04  \n",
       "mean        -9.363741e-17       -5.508083e-18  \n",
       "std          1.000024e+00        1.000024e+00  \n",
       "min         -1.662641e+00       -8.206532e-01  \n",
       "25%         -7.561633e-01       -8.206532e-01  \n",
       "50%         -2.353337e-01       -1.167392e-01  \n",
       "75%          5.014973e-01       -1.167392e-01  \n",
       "max          2.540411e+00        1.995003e+00  "
      ]
     },
     "execution_count": 23,
     "metadata": {},
     "output_type": "execute_result"
    }
   ],
   "source": [
    "data_mn.describe()"
   ]
  },
  {
   "cell_type": "markdown",
   "id": "0e85e86d-0b38-4410-97f9-32b09cd0db99",
   "metadata": {},
   "source": [
    "### 🧠 Feature Engineering: Creating Ratio-Based Features\n",
    "\n",
    "In this step, we create new features to capture deeper relationships within the data.  \n",
    "We first copy the mean-imputed dataset into `data_fe` to preserve the original version.\n",
    "\n",
    "Then, we engineer:\n",
    "- `bedroom_ratio`: the proportion of bedrooms to total rooms, which helps indicate housing density and space utilization.\n",
    "- `household_rooms`: the average number of rooms per household, giving us a sense of how spacious homes are in each district.\n",
    "\n",
    "These new features may improve model performance by offering more informative signals about housing conditions.\n"
   ]
  },
  {
   "cell_type": "code",
   "execution_count": 24,
   "id": "43342ab6-74ff-44bb-a116-9cf520be7033",
   "metadata": {
    "scrolled": true
   },
   "outputs": [
    {
     "data": {
      "text/html": [
       "<div>\n",
       "<style scoped>\n",
       "    .dataframe tbody tr th:only-of-type {\n",
       "        vertical-align: middle;\n",
       "    }\n",
       "\n",
       "    .dataframe tbody tr th {\n",
       "        vertical-align: top;\n",
       "    }\n",
       "\n",
       "    .dataframe thead th {\n",
       "        text-align: right;\n",
       "    }\n",
       "</style>\n",
       "<table border=\"1\" class=\"dataframe\">\n",
       "  <thead>\n",
       "    <tr style=\"text-align: right;\">\n",
       "      <th></th>\n",
       "      <th>longitude</th>\n",
       "      <th>latitude</th>\n",
       "      <th>housing_median_age</th>\n",
       "      <th>total_rooms</th>\n",
       "      <th>total_bedrooms</th>\n",
       "      <th>population</th>\n",
       "      <th>households</th>\n",
       "      <th>median_income</th>\n",
       "      <th>median_house_value</th>\n",
       "      <th>en_ocean_proximity</th>\n",
       "      <th>bedroom_ratio</th>\n",
       "      <th>household_rooms</th>\n",
       "    </tr>\n",
       "  </thead>\n",
       "  <tbody>\n",
       "    <tr>\n",
       "      <th>0</th>\n",
       "      <td>-1.327835</td>\n",
       "      <td>1.052548</td>\n",
       "      <td>0.982143</td>\n",
       "      <td>-0.804819</td>\n",
       "      <td>-0.970325</td>\n",
       "      <td>-0.974429</td>\n",
       "      <td>-0.977033</td>\n",
       "      <td>2.344766</td>\n",
       "      <td>2.129631</td>\n",
       "      <td>1.291089</td>\n",
       "      <td>1.205644</td>\n",
       "      <td>0.823738</td>\n",
       "    </tr>\n",
       "    <tr>\n",
       "      <th>1</th>\n",
       "      <td>-1.322844</td>\n",
       "      <td>1.043185</td>\n",
       "      <td>-0.607019</td>\n",
       "      <td>2.045890</td>\n",
       "      <td>1.348276</td>\n",
       "      <td>0.861439</td>\n",
       "      <td>1.669961</td>\n",
       "      <td>2.332238</td>\n",
       "      <td>1.314156</td>\n",
       "      <td>1.291089</td>\n",
       "      <td>0.659017</td>\n",
       "      <td>1.225112</td>\n",
       "    </tr>\n",
       "    <tr>\n",
       "      <th>2</th>\n",
       "      <td>-1.332827</td>\n",
       "      <td>1.038503</td>\n",
       "      <td>1.856182</td>\n",
       "      <td>-0.535746</td>\n",
       "      <td>-0.825561</td>\n",
       "      <td>-0.820777</td>\n",
       "      <td>-0.843637</td>\n",
       "      <td>1.782699</td>\n",
       "      <td>1.258693</td>\n",
       "      <td>1.291089</td>\n",
       "      <td>1.540956</td>\n",
       "      <td>0.635043</td>\n",
       "    </tr>\n",
       "    <tr>\n",
       "      <th>3</th>\n",
       "      <td>-1.337818</td>\n",
       "      <td>1.038503</td>\n",
       "      <td>1.856182</td>\n",
       "      <td>-0.624215</td>\n",
       "      <td>-0.718768</td>\n",
       "      <td>-0.766028</td>\n",
       "      <td>-0.733781</td>\n",
       "      <td>0.932968</td>\n",
       "      <td>1.165100</td>\n",
       "      <td>1.291089</td>\n",
       "      <td>1.151475</td>\n",
       "      <td>0.850682</td>\n",
       "    </tr>\n",
       "    <tr>\n",
       "      <th>4</th>\n",
       "      <td>-1.337818</td>\n",
       "      <td>1.038503</td>\n",
       "      <td>1.856182</td>\n",
       "      <td>-0.462404</td>\n",
       "      <td>-0.611974</td>\n",
       "      <td>-0.759847</td>\n",
       "      <td>-0.629157</td>\n",
       "      <td>-0.012881</td>\n",
       "      <td>1.172900</td>\n",
       "      <td>1.291089</td>\n",
       "      <td>1.323463</td>\n",
       "      <td>0.734958</td>\n",
       "    </tr>\n",
       "    <tr>\n",
       "      <th>...</th>\n",
       "      <td>...</td>\n",
       "      <td>...</td>\n",
       "      <td>...</td>\n",
       "      <td>...</td>\n",
       "      <td>...</td>\n",
       "      <td>...</td>\n",
       "      <td>...</td>\n",
       "      <td>...</td>\n",
       "      <td>...</td>\n",
       "      <td>...</td>\n",
       "      <td>...</td>\n",
       "      <td>...</td>\n",
       "    </tr>\n",
       "    <tr>\n",
       "      <th>20635</th>\n",
       "      <td>-0.758826</td>\n",
       "      <td>1.801647</td>\n",
       "      <td>-0.289187</td>\n",
       "      <td>-0.444985</td>\n",
       "      <td>-0.388895</td>\n",
       "      <td>-0.512592</td>\n",
       "      <td>-0.443449</td>\n",
       "      <td>-1.216128</td>\n",
       "      <td>-1.115804</td>\n",
       "      <td>-0.116739</td>\n",
       "      <td>0.873950</td>\n",
       "      <td>1.003464</td>\n",
       "    </tr>\n",
       "    <tr>\n",
       "      <th>20636</th>\n",
       "      <td>-0.818722</td>\n",
       "      <td>1.806329</td>\n",
       "      <td>-0.845393</td>\n",
       "      <td>-0.888704</td>\n",
       "      <td>-0.920488</td>\n",
       "      <td>-0.944405</td>\n",
       "      <td>-1.008420</td>\n",
       "      <td>-0.691593</td>\n",
       "      <td>-1.124470</td>\n",
       "      <td>-0.116739</td>\n",
       "      <td>1.035765</td>\n",
       "      <td>0.881283</td>\n",
       "    </tr>\n",
       "    <tr>\n",
       "      <th>20637</th>\n",
       "      <td>-0.823713</td>\n",
       "      <td>1.778237</td>\n",
       "      <td>-0.924851</td>\n",
       "      <td>-0.174995</td>\n",
       "      <td>-0.125472</td>\n",
       "      <td>-0.369537</td>\n",
       "      <td>-0.174042</td>\n",
       "      <td>-1.142593</td>\n",
       "      <td>-0.992746</td>\n",
       "      <td>-0.116739</td>\n",
       "      <td>0.717000</td>\n",
       "      <td>1.005479</td>\n",
       "    </tr>\n",
       "    <tr>\n",
       "      <th>20638</th>\n",
       "      <td>-0.873626</td>\n",
       "      <td>1.778237</td>\n",
       "      <td>-0.845393</td>\n",
       "      <td>-0.355600</td>\n",
       "      <td>-0.305834</td>\n",
       "      <td>-0.604429</td>\n",
       "      <td>-0.393753</td>\n",
       "      <td>-1.054583</td>\n",
       "      <td>-1.058608</td>\n",
       "      <td>-0.116739</td>\n",
       "      <td>0.860050</td>\n",
       "      <td>0.903105</td>\n",
       "    </tr>\n",
       "    <tr>\n",
       "      <th>20639</th>\n",
       "      <td>-0.833696</td>\n",
       "      <td>1.750146</td>\n",
       "      <td>-1.004309</td>\n",
       "      <td>0.068408</td>\n",
       "      <td>0.185416</td>\n",
       "      <td>-0.033977</td>\n",
       "      <td>0.079672</td>\n",
       "      <td>-0.780129</td>\n",
       "      <td>-1.017878</td>\n",
       "      <td>-0.116739</td>\n",
       "      <td>2.710426</td>\n",
       "      <td>0.858621</td>\n",
       "    </tr>\n",
       "  </tbody>\n",
       "</table>\n",
       "<p>20640 rows × 12 columns</p>\n",
       "</div>"
      ],
      "text/plain": [
       "       longitude  latitude  housing_median_age  total_rooms  total_bedrooms  \\\n",
       "0      -1.327835  1.052548            0.982143    -0.804819       -0.970325   \n",
       "1      -1.322844  1.043185           -0.607019     2.045890        1.348276   \n",
       "2      -1.332827  1.038503            1.856182    -0.535746       -0.825561   \n",
       "3      -1.337818  1.038503            1.856182    -0.624215       -0.718768   \n",
       "4      -1.337818  1.038503            1.856182    -0.462404       -0.611974   \n",
       "...          ...       ...                 ...          ...             ...   \n",
       "20635  -0.758826  1.801647           -0.289187    -0.444985       -0.388895   \n",
       "20636  -0.818722  1.806329           -0.845393    -0.888704       -0.920488   \n",
       "20637  -0.823713  1.778237           -0.924851    -0.174995       -0.125472   \n",
       "20638  -0.873626  1.778237           -0.845393    -0.355600       -0.305834   \n",
       "20639  -0.833696  1.750146           -1.004309     0.068408        0.185416   \n",
       "\n",
       "       population  households  median_income  median_house_value  \\\n",
       "0       -0.974429   -0.977033       2.344766            2.129631   \n",
       "1        0.861439    1.669961       2.332238            1.314156   \n",
       "2       -0.820777   -0.843637       1.782699            1.258693   \n",
       "3       -0.766028   -0.733781       0.932968            1.165100   \n",
       "4       -0.759847   -0.629157      -0.012881            1.172900   \n",
       "...           ...         ...            ...                 ...   \n",
       "20635   -0.512592   -0.443449      -1.216128           -1.115804   \n",
       "20636   -0.944405   -1.008420      -0.691593           -1.124470   \n",
       "20637   -0.369537   -0.174042      -1.142593           -0.992746   \n",
       "20638   -0.604429   -0.393753      -1.054583           -1.058608   \n",
       "20639   -0.033977    0.079672      -0.780129           -1.017878   \n",
       "\n",
       "       en_ocean_proximity  bedroom_ratio  household_rooms  \n",
       "0                1.291089       1.205644         0.823738  \n",
       "1                1.291089       0.659017         1.225112  \n",
       "2                1.291089       1.540956         0.635043  \n",
       "3                1.291089       1.151475         0.850682  \n",
       "4                1.291089       1.323463         0.734958  \n",
       "...                   ...            ...              ...  \n",
       "20635           -0.116739       0.873950         1.003464  \n",
       "20636           -0.116739       1.035765         0.881283  \n",
       "20637           -0.116739       0.717000         1.005479  \n",
       "20638           -0.116739       0.860050         0.903105  \n",
       "20639           -0.116739       2.710426         0.858621  \n",
       "\n",
       "[20640 rows x 12 columns]"
      ]
     },
     "execution_count": 24,
     "metadata": {},
     "output_type": "execute_result"
    }
   ],
   "source": [
    "# Create ratio of bedrooms to total rooms to capture layout density\n",
    "data_fe=data_mn.copy()\n",
    "data_fe['bedroom_ratio'] = data_mn['total_bedrooms'] / data_mn['total_rooms']\n",
    "\n",
    "# Compute rooms per household to reflect average space per household\n",
    "data_fe['household_rooms'] = data_mn['total_rooms'] / data_mn['households']\n",
    "data_fe"
   ]
  },
  {
   "cell_type": "markdown",
   "id": "6b0c9aff-a129-40fc-ab83-2b1ec87f2d4b",
   "metadata": {},
   "source": [
    "### 📊 Visualizing Feature Distributions with Histograms\n",
    "\n",
    "We use `data_mn.hist()` to plot histograms for all numerical features in the dataset, with 100 bins and a figure size of 15×15 for better visibility.  \n",
    "This helps us understand the **distribution, skewness, and spread** of each feature — which is useful for identifying outliers, transformations needed, or non-normal patterns that may affect model performance.\n"
   ]
  },
  {
   "cell_type": "code",
   "execution_count": 25,
   "id": "f190a300-e9e4-44a7-aee1-5048c94513d3",
   "metadata": {},
   "outputs": [
    {
     "data": {
      "image/png": "[encoded data removed]",
      "text/plain": [
       "<Figure size 1500x1500 with 12 Axes>"
      ]
     },
     "metadata": {},
     "output_type": "display_data"
    }
   ],
   "source": [
    "data_mn.hist(bins=100,figsize=(15,15))\n",
    "plt.show()"
   ]
  },
  {
   "cell_type": "markdown",
   "id": "4d258bc6-a92e-4733-af5e-6a689b4d10ee",
   "metadata": {},
   "source": [
    "### 🔗 Correlation Heatmap to Explore Feature Relationships\n",
    "\n",
    "We compute the correlation matrix using `data_mn.corr()` to measure the linear relationship between all pairs of numerical features.  \n",
    "Then, we visualize it using a heatmap with the `BrBG` color palette, centered at 0, and annotations enabled for exact correlation values.\n",
    "\n",
    "This visualization helps us quickly identify **strong positive or negative correlations**, which is useful for feature selection, multicollinearity detection, and better understanding how features relate to the target variable (`median_house_value`).\n"
   ]
  },
  {
   "cell_type": "code",
   "execution_count": 26,
   "id": "13c3e9d3-6db0-425b-b7b7-986374e9627f",
   "metadata": {},
   "outputs": [
    {
     "data": {
      "text/plain": [
       "<Axes: >"
      ]
     },
     "execution_count": 26,
     "metadata": {},
     "output_type": "execute_result"
    },
    {
     "data": {
      "image/png": "[encoded data removed]",
      "text/plain": [
       "<Figure size 1500x800 with 1 Axes>"
      ]
     },
     "metadata": {},
     "output_type": "display_data"
    }
   ],
   "source": [
    "corr_matrix=data_mn.corr()\n",
    "plt.figure(1,figsize=(15,8))\n",
    "sns.heatmap(corr_matrix,cmap='BrBG',center=0,annot=True,cbar=False)"
   ]
  },
  {
   "cell_type": "markdown",
   "id": "01f6b34b-dfae-4567-aac6-0b7e14fca44a",
   "metadata": {},
   "source": [
    "### 📈 Correlation of Features with Median House Value\n",
    "\n",
    "Here, we extract the correlation values between all features and the target variable `median_house_value` using `.corr()` and sort them in descending order.  \n",
    "This helps us **identify which features are most strongly correlated** with house prices, allowing us to prioritize those variables during model training and feature selection.\n"
   ]
  },
  {
   "cell_type": "code",
   "execution_count": 27,
   "id": "338f3cda-5a73-4ec2-830e-6a3d19b86def",
   "metadata": {},
   "outputs": [
    {
     "data": {
      "text/plain": [
       "median_house_value    1.000000\n",
       "median_income         0.688075\n",
       "total_rooms           0.134153\n",
       "housing_median_age    0.105623\n",
       "en_ocean_proximity    0.081750\n",
       "households            0.065843\n",
       "total_bedrooms        0.049454\n",
       "population           -0.024650\n",
       "longitude            -0.045967\n",
       "latitude             -0.144160\n",
       "Name: median_house_value, dtype: float64"
      ]
     },
     "execution_count": 27,
     "metadata": {},
     "output_type": "execute_result"
    }
   ],
   "source": [
    "data_mn.corr()['median_house_value'].sort_values(ascending=False)"
   ]
  },
  {
   "cell_type": "markdown",
   "id": "6d1e1429-a4ae-4f18-917d-b91978b3029a",
   "metadata": {},
   "source": [
    "### 🧠 Evaluating Correlation After Feature Engineering\n",
    "\n",
    "We compute the correlation between all features in our feature-engineered dataset (`data_fe`) and the target variable `median_house_value`, then sort the values in descending order.  \n",
    "This helps us assess whether the **newly created features** (like `bedroom_ratio` and `household_rooms`) have a meaningful relationship with house prices and whether they contribute positively to the predictive power of our model.\n"
   ]
  },
  {
   "cell_type": "code",
   "execution_count": 28,
   "id": "8dd6ea9f-503e-43bb-88d6-306715e3ae9d",
   "metadata": {},
   "outputs": [
    {
     "data": {
      "text/plain": [
       "median_house_value    1.000000\n",
       "median_income         0.688075\n",
       "total_rooms           0.134153\n",
       "housing_median_age    0.105623\n",
       "en_ocean_proximity    0.081750\n",
       "households            0.065843\n",
       "total_bedrooms        0.049454\n",
       "household_rooms       0.000345\n",
       "bedroom_ratio        -0.002519\n",
       "population           -0.024650\n",
       "longitude            -0.045967\n",
       "latitude             -0.144160\n",
       "Name: median_house_value, dtype: float64"
      ]
     },
     "execution_count": 28,
     "metadata": {},
     "output_type": "execute_result"
    }
   ],
   "source": [
    "data_fe.corr()['median_house_value'].sort_values(ascending=False)"
   ]
  },
  {
   "cell_type": "markdown",
   "id": "cfd56c4a-1969-4baa-9f04-d3a8640467e6",
   "metadata": {},
   "source": [
    "### ✅ Final Dataset Selection for Modeling\n",
    "\n",
    "After exploring different preprocessing strategies and feature transformations, we decided to proceed with the **mean-imputed dataset (`data_mn`)** for building our final model.  \n",
    "We define `y` as the target variable (`median_house_value`) and `x` as the set of input features, then split the data into training and testing sets using a 75/25 ratio.\n",
    "\n",
    "This clean and complete dataset provides a solid foundation for training accurate and reliable machine learning models.\n"
   ]
  },
  {
   "cell_type": "code",
   "execution_count": 29,
   "id": "1f859e6b-df6f-4537-a3f7-8ebf674047cf",
   "metadata": {},
   "outputs": [],
   "source": [
    "y=data_mn['median_house_value']\n",
    "x=data_mn.drop('median_house_value',axis=1)\n",
    "x_train,x_test,y_train,y_test=train_test_split(x,y,test_size=0.25)\n"
   ]
  },
  {
   "cell_type": "markdown",
   "id": "fbd94bb2-8594-4836-a6f1-15ec5b23f5f5",
   "metadata": {},
   "source": [
    "## 🚦 Model Training and Comparison\n",
    "\n",
    "Now that our dataset is clean, preprocessed, and ready, we begin the most critical phase of this project — **training and evaluating multiple machine learning models** to predict housing prices.\n",
    "\n",
    "We'll start by building a simple **Linear Regression model** as our baseline.  \n",
    "Then, we'll explore more powerful algorithms like **Decision Tree**, **Random Forest**, and **Gradient Boosting**, comparing their performance using key metrics such as **R² Score**, **Root Mean Squared Error (RMSE)**, and **Mean Squared Error (MSE)**.\n",
    "\n",
    "This approach allows us to identify the most accurate and reliable model for predicting California's median house values based on various features in the dataset.\n",
    "\n",
    "### 📘 Model 1: Linear Regression\n",
    "\n",
    "Linear Regression is a fundamental statistical technique that models the relationship between independent variables and a continuous target variable by fitting a linear equation.  \n",
    "We’re using it here as a **baseline model** — to understand how well a simple linear approach performs before moving on to more complex algorithms.\n"
   ]
  },
  {
   "cell_type": "code",
   "execution_count": 30,
   "id": "74919ee5-5690-4da3-a10d-1df4468c34b1",
   "metadata": {},
   "outputs": [
    {
     "name": "stdout",
     "output_type": "stream",
     "text": [
      "R2 Score: 0.6286434706376096\n",
      "RMSE: 0.606992354601027\n",
      "MSE: 0.36843971854409885\n"
     ]
    }
   ],
   "source": [
    "from sklearn.metrics import mean_squared_error\n",
    "model1=LinearRegression()\n",
    "model1.fit(x_train,y_train)\n",
    "y_predict=model1.predict(x_test)\n",
    "print(\"R2 Score:\", r2_score(y_test, y_predict))\n",
    "print(\"RMSE:\", np.sqrt(mean_squared_error(y_test, y_predict)))\n",
    "print('MSE:', mean_squared_error(y_test,y_predict))"
   ]
  },
  {
   "cell_type": "markdown",
   "id": "8b61bffc-4992-41be-ad2b-fb7ca92b2d59",
   "metadata": {},
   "source": [
    "### 🌳 Model 2: Decision Tree Regressor\n",
    "\n",
    "A **Decision Tree Regressor** is a non-linear model that splits the data into branches based on feature values to make predictions.  \n",
    "It works well when there are complex, non-linear relationships between the features and the target variable.\n",
    "\n",
    "In this step, we train a Decision Tree on the same training data and evaluate its performance using R² Score, RMSE, and MSE.  \n",
    "This allows us to see how well the model captures patterns in the data compared to our baseline Linear Regression model.\n"
   ]
  },
  {
   "cell_type": "code",
   "execution_count": 31,
   "id": "94a073b4-ca34-4a6f-8064-9c86e5ec763e",
   "metadata": {},
   "outputs": [
    {
     "name": "stdout",
     "output_type": "stream",
     "text": [
      "R2 Score: 0.6303901033563211\n",
      "RMSE: 0.605563212810645\n",
      "MSE: 0.3667068047095504\n"
     ]
    }
   ],
   "source": [
    "from sklearn import tree\n",
    "model2=tree.DecisionTreeRegressor()\n",
    "model2.fit(x_train,y_train)\n",
    "y_predict=model2.predict(x_test)\n",
    "print(\"R2 Score:\", r2_score(y_test, y_predict))\n",
    "print(\"RMSE:\", np.sqrt(mean_squared_error(y_test, y_predict)))\n",
    "print('MSE:', mean_squared_error(y_test,y_predict))\n"
   ]
  },
  {
   "cell_type": "markdown",
   "id": "0f2a8a76-3c49-47e7-b4a9-d8f560197e20",
   "metadata": {},
   "source": [
    "### 🌲 Model 3: Random Forest Regressor\n",
    "\n",
    "A **Random Forest Regressor** is an ensemble learning method that builds multiple decision trees and combines their predictions to produce more accurate and stable results.  \n",
    "By averaging the outputs of many trees, it reduces overfitting and improves generalization compared to a single Decision Tree.\n",
    "\n",
    "We train the Random Forest model on our dataset and evaluate its performance using **R² Score**, **RMSE**, and **MSE**.  \n",
    "This model often performs very well in regression tasks, especially when the data has complex, non-linear relationships.\n"
   ]
  },
  {
   "cell_type": "code",
   "execution_count": 32,
   "id": "6906de56-44b1-479b-bb9b-1ee9f72627e8",
   "metadata": {},
   "outputs": [
    {
     "name": "stdout",
     "output_type": "stream",
     "text": [
      "R2 Score: 0.808308153149875\n",
      "RMSE: 0.436103437163993\n",
      "MSE: 0.1901862079062488\n"
     ]
    }
   ],
   "source": [
    "from sklearn.ensemble import RandomForestRegressor\n",
    "model3=RandomForestRegressor()\n",
    "model3.fit(x_train,y_train)\n",
    "y_predict=model3.predict(x_test)\n",
    "print(\"R2 Score:\", r2_score(y_test, y_predict))\n",
    "print(\"RMSE:\", np.sqrt(mean_squared_error(y_test, y_predict)))\n",
    "print('MSE:', mean_squared_error(y_test,y_predict))\n"
   ]
  },
  {
   "cell_type": "markdown",
   "id": "753d2819-da02-467b-a21e-2fa057530c55",
   "metadata": {},
   "source": [
    "### ⚙️ Checking Default Hyperparameters of RandomForestRegressor\n",
    "\n",
    "We use `RandomForestRegressor().get_params()` to view all the **default hyperparameters** of the Random Forest model.  \n",
    "This gives us a complete overview of what settings the model is using by default — such as the number of trees (`n_estimators`), maximum depth (`max_depth`), and splitting criteria (`min_samples_split`, `max_features`, etc.).\n",
    "\n",
    "Understanding these defaults helps us decide **which parameters to tune** using techniques like GridSearchCV to optimize model performance.\n"
   ]
  },
  {
   "cell_type": "code",
   "execution_count": 33,
   "id": "ad891ed9-4834-4900-b650-f480b2653d7a",
   "metadata": {},
   "outputs": [
    {
     "data": {
      "text/plain": [
       "{'bootstrap': True,\n",
       " 'ccp_alpha': 0.0,\n",
       " 'criterion': 'squared_error',\n",
       " 'max_depth': None,\n",
       " 'max_features': 1.0,\n",
       " 'max_leaf_nodes': None,\n",
       " 'max_samples': None,\n",
       " 'min_impurity_decrease': 0.0,\n",
       " 'min_samples_leaf': 1,\n",
       " 'min_samples_split': 2,\n",
       " 'min_weight_fraction_leaf': 0.0,\n",
       " 'monotonic_cst': None,\n",
       " 'n_estimators': 100,\n",
       " 'n_jobs': None,\n",
       " 'oob_score': False,\n",
       " 'random_state': None,\n",
       " 'verbose': 0,\n",
       " 'warm_start': False}"
      ]
     },
     "execution_count": 33,
     "metadata": {},
     "output_type": "execute_result"
    }
   ],
   "source": [
    "RandomForestRegressor().get_params()"
   ]
  },
  {
   "cell_type": "markdown",
   "id": "d95fb350-4f0f-4ec1-8ebd-9ec3a8ae8364",
   "metadata": {},
   "source": [
    "### 🔍 Hyperparameter Tuning: Random Forest Regressor with GridSearchCV\n",
    "\n",
    "After testing various models, we now fine-tune the **Random Forest Regressor** using `GridSearchCV`, which performs an **exhaustive search** over a specified set of hyperparameters.  \n",
    "We define a grid of possible values for key parameters like:\n",
    "\n",
    "- `n_estimators`: number of trees in the forest  \n",
    "- `max_depth`: maximum depth of each tree  \n",
    "- `min_samples_split` and `min_samples_leaf`: control the complexity of splits  \n",
    "- `max_features`: strategy for choosing features at each split\n",
    "\n",
    "`GridSearchCV` uses **5-fold cross-validation** and selects the combination of parameters that yields the best **R² score** on the validation sets.\n",
    "\n",
    "Once the best model is found, we evaluate it on the test set to check its final **R² performance**, ensuring we've optimized the Random Forest effectively.\n"
   ]
  },
  {
   "cell_type": "code",
   "execution_count": 34,
   "id": "51c6315c-1b8f-47ac-8054-0f469551cb2a",
   "metadata": {},
   "outputs": [
    {
     "name": "stdout",
     "output_type": "stream",
     "text": [
      "Fitting 5 folds for each of 216 candidates, totalling 1080 fits\n"
     ]
    },
    {
     "name": "stderr",
     "output_type": "stream",
     "text": [
      "C:\\ProgramData\\anaconda3\\Lib\\site-packages\\sklearn\\model_selection\\_validation.py:540: FitFailedWarning: \n",
      "540 fits failed out of a total of 1080.\n",
      "The score on these train-test partitions for these parameters will be set to nan.\n",
      "If these failures are not expected, you can try to debug them by setting error_score='raise'.\n",
      "\n",
      "Below are more details about the failures:\n",
      "--------------------------------------------------------------------------------\n",
      "426 fits failed with the following error:\n",
      "Traceback (most recent call last):\n",
      "  File \"C:\\ProgramData\\anaconda3\\Lib\\site-packages\\sklearn\\model_selection\\_validation.py\", line 888, in _fit_and_score\n",
      "    estimator.fit(X_train, y_train, **fit_params)\n",
      "  File \"C:\\ProgramData\\anaconda3\\Lib\\site-packages\\sklearn\\base.py\", line 1466, in wrapper\n",
      "    estimator._validate_params()\n",
      "  File \"C:\\ProgramData\\anaconda3\\Lib\\site-packages\\sklearn\\base.py\", line 666, in _validate_params\n",
      "    validate_parameter_constraints(\n",
      "  File \"C:\\ProgramData\\anaconda3\\Lib\\site-packages\\sklearn\\utils\\_param_validation.py\", line 95, in validate_parameter_constraints\n",
      "    raise InvalidParameterError(\n",
      "sklearn.utils._param_validation.InvalidParameterError: The 'max_features' parameter of RandomForestRegressor must be an int in the range [1, inf), a float in the range (0.0, 1.0], a str among {'sqrt', 'log2'} or None. Got 'auto' instead.\n",
      "\n",
      "--------------------------------------------------------------------------------\n",
      "114 fits failed with the following error:\n",
      "Traceback (most recent call last):\n",
      "  File \"C:\\ProgramData\\anaconda3\\Lib\\site-packages\\sklearn\\model_selection\\_validation.py\", line 888, in _fit_and_score\n",
      "    estimator.fit(X_train, y_train, **fit_params)\n",
      "  File \"C:\\ProgramData\\anaconda3\\Lib\\site-packages\\sklearn\\base.py\", line 1466, in wrapper\n",
      "    estimator._validate_params()\n",
      "  File \"C:\\ProgramData\\anaconda3\\Lib\\site-packages\\sklearn\\base.py\", line 666, in _validate_params\n",
      "    validate_parameter_constraints(\n",
      "  File \"C:\\ProgramData\\anaconda3\\Lib\\site-packages\\sklearn\\utils\\_param_validation.py\", line 95, in validate_parameter_constraints\n",
      "    raise InvalidParameterError(\n",
      "sklearn.utils._param_validation.InvalidParameterError: The 'max_features' parameter of RandomForestRegressor must be an int in the range [1, inf), a float in the range (0.0, 1.0], a str among {'log2', 'sqrt'} or None. Got 'auto' instead.\n",
      "\n",
      "  warnings.warn(some_fits_failed_message, FitFailedWarning)\n",
      "C:\\ProgramData\\anaconda3\\Lib\\site-packages\\sklearn\\model_selection\\_search.py:1102: UserWarning: One or more of the test scores are non-finite: [       nan        nan        nan        nan        nan        nan\n",
      "        nan        nan        nan        nan        nan        nan\n",
      "        nan        nan        nan        nan        nan        nan\n",
      "        nan        nan        nan        nan        nan        nan\n",
      "        nan        nan        nan 0.79482948 0.81387855 0.81675078\n",
      " 0.79665121 0.81237638 0.81546952 0.79553324 0.81037876 0.81328027\n",
      " 0.79634966 0.81162231 0.81485832 0.79962142 0.81219707 0.81495128\n",
      " 0.79526052 0.81038989 0.81272981 0.79452339 0.80863026 0.8119643\n",
      " 0.79452339 0.80863026 0.8119643  0.79717666 0.80831824 0.81107077\n",
      "        nan        nan        nan        nan        nan        nan\n",
      "        nan        nan        nan        nan        nan        nan\n",
      "        nan        nan        nan        nan        nan        nan\n",
      "        nan        nan        nan        nan        nan        nan\n",
      "        nan        nan        nan 0.63676636 0.64660857 0.64993341\n",
      " 0.63760328 0.64702772 0.65021261 0.63780126 0.64705711 0.65008709\n",
      " 0.63752249 0.64690921 0.65015856 0.63752862 0.64700655 0.65025683\n",
      " 0.63773153 0.64701486 0.65003588 0.63681908 0.64692559 0.65030275\n",
      " 0.63681908 0.64692559 0.65030275 0.63675366 0.64683294 0.65006744\n",
      "        nan        nan        nan        nan        nan        nan\n",
      "        nan        nan        nan        nan        nan        nan\n",
      "        nan        nan        nan        nan        nan        nan\n",
      "        nan        nan        nan        nan        nan        nan\n",
      "        nan        nan        nan 0.76835552 0.77892671 0.78210728\n",
      " 0.76451816 0.77792691 0.78150254 0.77087604 0.77851288 0.78146208\n",
      " 0.77144399 0.77991238 0.78295392 0.76883747 0.77870525 0.78242012\n",
      " 0.76981278 0.77962662 0.78208733 0.773072   0.77952239 0.78279685\n",
      " 0.773072   0.77952239 0.78279685 0.77022421 0.77924211 0.78189918\n",
      "        nan        nan        nan        nan        nan        nan\n",
      "        nan        nan        nan        nan        nan        nan\n",
      "        nan        nan        nan        nan        nan        nan\n",
      "        nan        nan        nan        nan        nan        nan\n",
      "        nan        nan        nan 0.79453251 0.81279111 0.81560615\n",
      " 0.79911787 0.8134553  0.81561586 0.7975455  0.81130793 0.8142304\n",
      " 0.79355614 0.81032023 0.81375993 0.79746466 0.81084716 0.8138226\n",
      " 0.79600361 0.81091028 0.81332032 0.795528   0.80826157 0.81148949\n",
      " 0.795528   0.80826157 0.81148949 0.79534866 0.80796335 0.81114817]\n",
      "  warnings.warn(\n"
     ]
    },
    {
     "name": "stdout",
     "output_type": "stream",
     "text": [
      "Best Parameters: {'max_depth': None, 'max_features': 'sqrt', 'min_samples_leaf': 1, 'min_samples_split': 2, 'n_estimators': 100}\n",
      "R2 Score: 0.8137493008053482\n"
     ]
    }
   ],
   "source": [
    "from sklearn.ensemble import RandomForestRegressor\n",
    "from sklearn.model_selection import GridSearchCV\n",
    "from sklearn.metrics import r2_score\n",
    "model = RandomForestRegressor(random_state=42)\n",
    "param_grid = {\n",
    "    'n_estimators': [10,50,100],\n",
    "    'max_depth': [None,5,10,20],\n",
    "    'min_samples_split': [2,5,8],\n",
    "    'min_samples_leaf': [1,2,3],\n",
    "    'max_features': ['auto', 'sqrt']\n",
    "}\n",
    "\n",
    "grid_search = GridSearchCV(\n",
    "    estimator=model,\n",
    "    param_grid=param_grid,\n",
    "    cv=5,  \n",
    "    scoring='r2',  \n",
    "    n_jobs=-1,\n",
    "    verbose=1\n",
    ")\n",
    "grid_search.fit(x_train,y_train)\n",
    "print(\"Best Parameters:\", grid_search.best_params_)\n",
    "best_model = grid_search.best_estimator_\n",
    "y_pred = best_model.predict(x_test)\n",
    "print(\"R2 Score:\", r2_score(y_test, y_pred))"
   ]
  },
  {
   "cell_type": "code",
   "execution_count": 35,
   "id": "8c784e89-1f84-4b82-98dc-0ddb70806385",
   "metadata": {},
   "outputs": [
    {
     "name": "stdout",
     "output_type": "stream",
     "text": [
      "R2 Score: 0.7590082729903836\n",
      "RMSE: 0.4889773648721931\n",
      "MSE: 0.23909886335735386\n"
     ]
    }
   ],
   "source": [
    "from sklearn import svm\n",
    "model4=svm.SVR()\n",
    "model4.fit(x_train,y_train)\n",
    "y_predict=model4.predict(x_test)\n",
    "print(\"R2 Score:\", r2_score(y_test, y_predict))\n",
    "print(\"RMSE:\", np.sqrt(mean_squared_error(y_test, y_predict)))\n",
    "print('MSE:', mean_squared_error(y_test,y_predict))"
   ]
  },
  {
   "cell_type": "markdown",
   "id": "c7037d7a-3ce1-42d7-b352-11ccb252a135",
   "metadata": {},
   "source": [
    "### ⚙️ Inspecting Default Hyperparameters of SVC (Support Vector Classifier)\n",
    "\n",
    "We use `sklearn.svm.SVC().get_params()` to display the **default hyperparameter settings** of the `SVC` (Support Vector Classifier) model.  \n",
    "Understanding these defaults helps us configure or tune the SVC model more effectively, especially when applying it to classification problems.\n"
   ]
  },
  {
   "cell_type": "code",
   "execution_count": 36,
   "id": "d5f25f67-5e70-45aa-a64c-de417a82e8e3",
   "metadata": {},
   "outputs": [
    {
     "data": {
      "text/plain": [
       "{'C': 1.0,\n",
       " 'break_ties': False,\n",
       " 'cache_size': 200,\n",
       " 'class_weight': None,\n",
       " 'coef0': 0.0,\n",
       " 'decision_function_shape': 'ovr',\n",
       " 'degree': 3,\n",
       " 'gamma': 'scale',\n",
       " 'kernel': 'rbf',\n",
       " 'max_iter': -1,\n",
       " 'probability': False,\n",
       " 'random_state': None,\n",
       " 'shrinking': True,\n",
       " 'tol': 0.001,\n",
       " 'verbose': False}"
      ]
     },
     "execution_count": 36,
     "metadata": {},
     "output_type": "execute_result"
    }
   ],
   "source": [
    "import sklearn\n",
    "sklearn.svm.SVC().get_params()"
   ]
  },
  {
   "cell_type": "markdown",
   "id": "28b697c6-6c81-408a-9026-ca697f8110f0",
   "metadata": {},
   "source": [
    "### ⚡ Model 5: XGBoost Regressor\n",
    "\n",
    "**XGBoost (Extreme Gradient Boosting)** is a highly efficient and scalable machine learning algorithm known for delivering state-of-the-art results in regression and classification tasks.  \n",
    "It builds trees sequentially, where each new tree attempts to correct the errors of the previous ones.\n",
    "\n",
    "In this step, we train the XGBoost Regressor using:\n",
    "- `n_estimators=100`: the number of boosting rounds (trees)\n",
    "- `learning_rate=0.1`: the step size shrinkage used to prevent overfitting\n",
    "\n",
    "After training, we evaluate the model on the test set using:\n",
    "- **R² Score** to measure goodness of fit  \n",
    "- **RMSE** and **MSE** to quantify prediction errors\n",
    "\n",
    "This powerful model often performs better than traditional regressors, especially with well-preprocessed and structured data.\n"
   ]
  },
  {
   "cell_type": "code",
   "execution_count": 37,
   "id": "7fb0981f-6272-41a7-a401-b3082d4bde75",
   "metadata": {},
   "outputs": [
    {
     "name": "stdout",
     "output_type": "stream",
     "text": [
      "R2 Score: 0.8192901840127402\n",
      "RMSE: 0.4234270127630162\n",
      "MSE: 0.1792904351374115\n"
     ]
    }
   ],
   "source": [
    "from xgboost import XGBRegressor\n",
    "\n",
    "model = XGBRegressor(n_estimators=100, learning_rate=0.1)\n",
    "model.fit(x_train, y_train)\n",
    "\n",
    "y_predict=model.predict(x_test)\n",
    "print(\"R2 Score:\", r2_score(y_test, y_predict))\n",
    "print(\"RMSE:\", np.sqrt(mean_squared_error(y_test, y_predict)))\n",
    "print('MSE:', mean_squared_error(y_test,y_predict))\n"
   ]
  }
 ],
 "metadata": {
  "kernelspec": {
   "display_name": "Python 3 (ipykernel)",
   "language": "python",
   "name": "python3"
  },
  "language_info": {
   "codemirror_mode": {
    "name": "ipython",
    "version": 3
   },
   "file_extension": ".py",
   "mimetype": "text/x-python",
   "name": "python",
   "nbconvert_exporter": "python",
   "pygments_lexer": "ipython3",
   "version": "3.12.3"
  }
 },
 "nbformat": 4,
 "nbformat_minor": 5
}
